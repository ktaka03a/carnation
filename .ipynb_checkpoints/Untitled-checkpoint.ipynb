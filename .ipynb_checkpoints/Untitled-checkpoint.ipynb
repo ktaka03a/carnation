{
 "cells": [
  {
   "cell_type": "code",
   "execution_count": 37,
   "id": "91c0bca6",
   "metadata": {},
   "outputs": [],
   "source": [
    "import os, sys, math, time, winsound, random, h5py, time, serial\n",
    "import numpy as np, pandas as pd, seaborn as sns, tensorflow as tf"
   ]
  },
  {
   "cell_type": "code",
   "execution_count": 318,
   "id": "c058b04d",
   "metadata": {},
   "outputs": [],
   "source": [
    "\n",
    "depth_per_sec = 0.01### 1秒のソレノイド開放でdepthが0.01m変化\n",
    "\n",
    "ser = serial.Serial(\"COM7\", 9600)"
   ]
  },
  {
   "cell_type": "code",
   "execution_count": 319,
   "id": "8979abe9",
   "metadata": {},
   "outputs": [],
   "source": [
    "def send(datalist):\n",
    "    for i in range(len(datalist)):\n",
    "        if datalist[i]<0:\n",
    "            datalist[i]=abs(datalist[i])\n",
    "            datalist[i]+=128\n",
    "        else:\n",
    "            datalist[i]=abs(datalist[i])\n",
    "        print(datalist[i])\n",
    "    ser.write(bytes(datalist))"
   ]
  },
  {
   "cell_type": "code",
   "execution_count": 334,
   "id": "a73eae06",
   "metadata": {},
   "outputs": [
    {
     "name": "stdout",
     "output_type": "stream",
     "text": [
      "127\n",
      "127\n",
      "127\n",
      "255\n",
      "255\n",
      "255\n"
     ]
    }
   ],
   "source": [
    "send([127 for i in range(3)])\n",
    "send([-127 for i in range(3)])\n",
    "send([0])"
   ]
  },
  {
   "cell_type": "code",
   "execution_count": 264,
   "id": "0c449b0c",
   "metadata": {},
   "outputs": [
    {
     "data": {
      "text/plain": [
       "1"
      ]
     },
     "execution_count": 264,
     "metadata": {},
     "output_type": "execute_result"
    }
   ],
   "source": [
    "# ser.readline()\n",
    "ser.write(chr(127).encode())"
   ]
  },
  {
   "cell_type": "code",
   "execution_count": 317,
   "id": "a368c78a",
   "metadata": {},
   "outputs": [],
   "source": [
    "ser.close()"
   ]
  },
  {
   "cell_type": "code",
   "execution_count": null,
   "id": "50e7f211",
   "metadata": {},
   "outputs": [],
   "source": []
  },
  {
   "cell_type": "code",
   "execution_count": null,
   "id": "a5dbefaa",
   "metadata": {},
   "outputs": [],
   "source": []
  }
 ],
 "metadata": {
  "kernelspec": {
   "display_name": "Python 3 (ipykernel)",
   "language": "python",
   "name": "python3"
  },
  "language_info": {
   "codemirror_mode": {
    "name": "ipython",
    "version": 3
   },
   "file_extension": ".py",
   "mimetype": "text/x-python",
   "name": "python",
   "nbconvert_exporter": "python",
   "pygments_lexer": "ipython3",
   "version": "3.9.12"
  },
  "toc": {
   "base_numbering": 1,
   "nav_menu": {},
   "number_sections": true,
   "sideBar": true,
   "skip_h1_title": false,
   "title_cell": "Table of Contents",
   "title_sidebar": "Contents",
   "toc_cell": false,
   "toc_position": {},
   "toc_section_display": true,
   "toc_window_display": false
  }
 },
 "nbformat": 4,
 "nbformat_minor": 5
}
