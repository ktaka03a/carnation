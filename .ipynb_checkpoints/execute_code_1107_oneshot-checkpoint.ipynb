{
 "cells": [
  {
   "cell_type": "markdown",
   "id": "9840fe14",
   "metadata": {},
   "source": [
    "# import & 関数定義"
   ]
  },
  {
   "cell_type": "code",
   "execution_count": 1,
   "id": "a0404ffb",
   "metadata": {},
   "outputs": [],
   "source": [
    "import os, sys, math, time, winsound, random, h5py, datetime, serial, itertools\n",
    "import numpy as np, pandas as pd, seaborn as sns, tensorflow as tf\n",
    "# from matplotlib import pyplot as plt\n",
    "from tensorflow import keras\n",
    "from keras.models import model_from_json\n",
    "from tensorflow.keras import layers\n",
    "from scipy import stats\n",
    "from sklearn.model_selection import train_test_split\n",
    "from imblearn.under_sampling import RandomUnderSampler\n",
    "from IPython.display import clear_output\n",
    "import my_module as mm\n",
    "from sklearn.metrics import accuracy_score\n",
    "\n",
    "os.makedirs(\"model_files\", exist_ok=True)"
   ]
  },
  {
   "cell_type": "code",
   "execution_count": 2,
   "id": "e36ee960",
   "metadata": {},
   "outputs": [],
   "source": [
    "COMport=\"COM11\""
   ]
  },
  {
   "cell_type": "code",
   "execution_count": 3,
   "id": "547c8633",
   "metadata": {},
   "outputs": [],
   "source": [
    "def append(name):\n",
    "    name_list.append(name)"
   ]
  },
  {
   "cell_type": "code",
   "execution_count": 4,
   "id": "c0299832",
   "metadata": {},
   "outputs": [],
   "source": [
    "def send(datalist, print_data=False):\n",
    "    for i in range(len(datalist)):\n",
    "        if datalist[i]<0:\n",
    "            datalist[i]=abs(datalist[i])\n",
    "            datalist[i]+=128\n",
    "        else:\n",
    "            datalist[i]=abs(datalist[i])\n",
    "        if print_data:\n",
    "            print(datalist[i])\n",
    "    if serial_flag:\n",
    "        ser.write(bytes(datalist))"
   ]
  },
  {
   "cell_type": "markdown",
   "id": "42f151b6",
   "metadata": {},
   "source": [
    "# パラメータ設定"
   ]
  },
  {
   "cell_type": "code",
   "execution_count": 5,
   "id": "47cb4745",
   "metadata": {},
   "outputs": [],
   "source": [
    "weight_per_depth = 0.01 ### 重みの変化量に対するdepthの変化量(1/m)\n",
    "depth_per_sec = 0.005### ソレノイド開放時間に対する砂山のdepth変化量(m/sec)\n",
    "serial_flag=True"
   ]
  },
  {
   "cell_type": "code",
   "execution_count": 6,
   "id": "846ac4f8",
   "metadata": {},
   "outputs": [],
   "source": [
    "if serial_flag:\n",
    "    ser = serial.Serial(COMport, 9600)"
   ]
  },
  {
   "cell_type": "markdown",
   "id": "da6fd67a",
   "metadata": {},
   "source": [
    "# 初期化"
   ]
  },
  {
   "cell_type": "markdown",
   "id": "caa70464",
   "metadata": {},
   "source": [
    "## NN構築"
   ]
  },
  {
   "cell_type": "code",
   "execution_count": 7,
   "id": "61b802bd",
   "metadata": {},
   "outputs": [],
   "source": [
    "x_train, y_train, x_test, y_test = mm.make_dataset(1000, 5)"
   ]
  },
  {
   "cell_type": "code",
   "execution_count": 8,
   "id": "559920de",
   "metadata": {},
   "outputs": [],
   "source": [
    "model_initial = keras.models.Sequential([\n",
    "#   layers.Dense(3, activation='tanh'),\n",
    "  layers.Dense(3, activation='tanh'),\n",
    "  layers.Dense(2, activation='tanh'),\n",
    "  layers.Dense(2, activation='tanh')\n",
    "])\n",
    "predictions = model_initial(np.array(x_train)[:1]).numpy()\n",
    "loss_fn = keras.losses.SparseCategoricalCrossentropy(from_logits=True)"
   ]
  },
  {
   "cell_type": "code",
   "execution_count": 9,
   "id": "8bb931f9",
   "metadata": {},
   "outputs": [
    {
     "name": "stdout",
     "output_type": "stream",
     "text": [
      "3/3 [==============================] - 0s 3ms/step - loss: 0.4332 - accuracy: 0.8649\n"
     ]
    },
    {
     "data": {
      "text/plain": [
       "<seaborn.axisgrid.JointGrid at 0x2c1bfc9cbe0>"
      ]
     },
     "execution_count": 9,
     "metadata": {},
     "output_type": "execute_result"
    },
    {
     "data": {
      "image/png": "[encoded data removed]",
      "text/plain": [
       "<Figure size 432x432 with 3 Axes>"
      ]
     },
     "metadata": {
      "needs_background": "light"
     },
     "output_type": "display_data"
    }
   ],
   "source": [
    "model_initial.compile(optimizer='adam', loss=loss_fn, metrics=['accuracy'])\n",
    "model_initial.fit(x_train, y_train, epochs=100, verbose=0)\n",
    "model_initial.evaluate(x_test, y_test)\n",
    "test_result_2=pd.concat([x_test, y_test, pd.Series(np.argmax(model_initial.predict(x_test, verbose=0), axis = 1), name=\"predict\")], axis=1)\n",
    "sns.jointplot(x='x', y='y', data=test_result_2, hue=\"predict\", marker=\"o\")"
   ]
  },
  {
   "cell_type": "code",
   "execution_count": 10,
   "id": "5c401667",
   "metadata": {},
   "outputs": [],
   "source": [
    "model_initial.save_weights(\"model_files/weight.hdf5\")\n",
    "model_initial.save_weights(\"model_files/weight_init.hdf5\")\n",
    "with open(\"model_files/model.json\", 'w') as f:\n",
    "    f.write(model_initial.to_json())"
   ]
  },
  {
   "cell_type": "code",
   "execution_count": 11,
   "id": "75d3524f",
   "metadata": {},
   "outputs": [],
   "source": [
    "name_list=[]\n",
    "data={}\n",
    "with h5py.File(\"model_files/weight.hdf5\",'r+') as f:\n",
    "    f.visit(append)\n",
    "    for name in name_list:\n",
    "        if isinstance(f[name], h5py.Dataset):        \n",
    "            data[name]=f[name][()]"
   ]
  },
  {
   "cell_type": "code",
   "execution_count": 12,
   "id": "f734785e",
   "metadata": {},
   "outputs": [
    {
     "name": "stdout",
     "output_type": "stream",
     "text": [
      "[-0.6934661   0.88761455 -0.7958168 ] (3,)\n",
      "[[ 0.67479104  0.06216678 -0.4017169 ]\n",
      " [-0.64500856 -0.56312495  0.09521588]\n",
      " [-0.15006514 -0.04488491 -0.29118648]\n",
      " [ 0.50885814 -0.12064764 -0.12142665]] (4, 3)\n",
      "[0.51917505 0.40415248] (2,)\n",
      "[[ 0.9667717   0.8783065 ]\n",
      " [-0.17134845 -0.39217132]\n",
      " [ 0.8933563   0.7374672 ]] (3, 2)\n",
      "[-0.2304055   0.21102884] (2,)\n",
      "[[-1.0437297  0.1697789]\n",
      " [-1.3537719  1.1019276]] (2, 2)\n",
      "parameter count: 29\n"
     ]
    }
   ],
   "source": [
    "parameter_count=0\n",
    "for i in list(data):\n",
    "    print(data[i], data[i].shape)\n",
    "    if len(data[i].shape)>1:\n",
    "        parameter_count+=data[i].shape[0]*data[i].shape[1]\n",
    "    else:\n",
    "        parameter_count+=data[i].shape[0]\n",
    "print(\"parameter count:\", parameter_count)"
   ]
  },
  {
   "cell_type": "markdown",
   "id": "b1b5eee6",
   "metadata": {},
   "source": [
    "## Depth初期化"
   ]
  },
  {
   "cell_type": "code",
   "execution_count": 13,
   "id": "5abf1bf3",
   "metadata": {},
   "outputs": [],
   "source": [
    "while True:\n",
    "    try:\n",
    "        depth_init=pd.read_csv(\"model_files/depth_info.csv\", header=None)\n",
    "    except:\n",
    "        pass\n",
    "    else:\n",
    "        break\n",
    "depth_init.to_csv(\"model_files/depth_initial.csv\", header=None, index=None)"
   ]
  },
  {
   "cell_type": "code",
   "execution_count": 14,
   "id": "4c7cd0f2",
   "metadata": {},
   "outputs": [
    {
     "data": {
      "text/html": [
       "<div>\n",
       "<style scoped>\n",
       "    .dataframe tbody tr th:only-of-type {\n",
       "        vertical-align: middle;\n",
       "    }\n",
       "\n",
       "    .dataframe tbody tr th {\n",
       "        vertical-align: top;\n",
       "    }\n",
       "\n",
       "    .dataframe thead th {\n",
       "        text-align: right;\n",
       "    }\n",
       "</style>\n",
       "<table border=\"1\" class=\"dataframe\">\n",
       "  <thead>\n",
       "    <tr style=\"text-align: right;\">\n",
       "      <th></th>\n",
       "      <th>0</th>\n",
       "      <th>1</th>\n",
       "      <th>2</th>\n",
       "      <th>3</th>\n",
       "      <th>4</th>\n",
       "      <th>5</th>\n",
       "    </tr>\n",
       "  </thead>\n",
       "  <tbody>\n",
       "    <tr>\n",
       "      <th>0</th>\n",
       "      <td>0.415571</td>\n",
       "      <td>0.387000</td>\n",
       "      <td>0.422000</td>\n",
       "      <td>0.340889</td>\n",
       "      <td>0.433125</td>\n",
       "      <td>0.393667</td>\n",
       "    </tr>\n",
       "    <tr>\n",
       "      <th>1</th>\n",
       "      <td>0.408571</td>\n",
       "      <td>0.333000</td>\n",
       "      <td>0.337111</td>\n",
       "      <td>0.341222</td>\n",
       "      <td>0.339889</td>\n",
       "      <td>0.345000</td>\n",
       "    </tr>\n",
       "    <tr>\n",
       "      <th>2</th>\n",
       "      <td>0.329500</td>\n",
       "      <td>0.320667</td>\n",
       "      <td>0.336222</td>\n",
       "      <td>0.338000</td>\n",
       "      <td>0.340000</td>\n",
       "      <td>0.338889</td>\n",
       "    </tr>\n",
       "    <tr>\n",
       "      <th>3</th>\n",
       "      <td>0.327111</td>\n",
       "      <td>0.325444</td>\n",
       "      <td>0.335111</td>\n",
       "      <td>0.333444</td>\n",
       "      <td>0.338667</td>\n",
       "      <td>0.336333</td>\n",
       "    </tr>\n",
       "    <tr>\n",
       "      <th>4</th>\n",
       "      <td>0.331000</td>\n",
       "      <td>0.331556</td>\n",
       "      <td>0.332556</td>\n",
       "      <td>0.314444</td>\n",
       "      <td>0.332111</td>\n",
       "      <td>0.334333</td>\n",
       "    </tr>\n",
       "    <tr>\n",
       "      <th>5</th>\n",
       "      <td>0.396778</td>\n",
       "      <td>0.370111</td>\n",
       "      <td>0.329778</td>\n",
       "      <td>0.326625</td>\n",
       "      <td>0.320889</td>\n",
       "      <td>0.375571</td>\n",
       "    </tr>\n",
       "  </tbody>\n",
       "</table>\n",
       "</div>"
      ],
      "text/plain": [
       "          0         1         2         3         4         5\n",
       "0  0.415571  0.387000  0.422000  0.340889  0.433125  0.393667\n",
       "1  0.408571  0.333000  0.337111  0.341222  0.339889  0.345000\n",
       "2  0.329500  0.320667  0.336222  0.338000  0.340000  0.338889\n",
       "3  0.327111  0.325444  0.335111  0.333444  0.338667  0.336333\n",
       "4  0.331000  0.331556  0.332556  0.314444  0.332111  0.334333\n",
       "5  0.396778  0.370111  0.329778  0.326625  0.320889  0.375571"
      ]
     },
     "execution_count": 14,
     "metadata": {},
     "output_type": "execute_result"
    }
   ],
   "source": [
    "depth_init"
   ]
  },
  {
   "cell_type": "code",
   "execution_count": 15,
   "id": "67c5207f",
   "metadata": {},
   "outputs": [],
   "source": [
    "model=tf.keras.models.model_from_json(open(\"model_files/model.json\", \"r\").read())\n",
    "model.load_weights(\"model_files/weight.hdf5\")\n",
    "model.compile(optimizer='adam', loss=loss_fn, metrics=['accuracy'])"
   ]
  },
  {
   "cell_type": "markdown",
   "id": "db6084d2",
   "metadata": {},
   "source": [
    "# Loop部"
   ]
  },
  {
   "cell_type": "code",
   "execution_count": 62,
   "id": "c11824a6",
   "metadata": {},
   "outputs": [
    {
     "name": "stdout",
     "output_type": "stream",
     "text": [
      "{'dense/dense/bias:0': array([-1.42e-06, -4.44e-06, -2.86e-06], dtype=float32), 'dense/dense/kernel:0': array([[-3.330e-06, -3.750e-06, -6.670e-06],\n",
      "       [-1.446e-05,  1.110e-06, -2.220e-06],\n",
      "       [-1.110e-06, -2.220e-06, -2.111e-05],\n",
      "       [ 1.670e-06, -2.230e-06, -4.440e-06]], dtype=float32), 'dense_1/dense_1/bias:0': array([ 0.00e+00, -1.11e-06], dtype=float32), 'dense_1/dense_1/kernel:0': array([[-1.00e-05, -7.78e-06],\n",
      "       [ 8.89e-06, -3.33e-06],\n",
      "       [ 1.12e-06, -1.11e-06]], dtype=float32), 'dense_2/dense_2/bias:0': array([6.670e-06, 1.333e-05], dtype=float32), 'dense_2/dense_2/kernel:0': array([[ 0.00e+00,  1.11e-06],\n",
      "       [ 0.00e+00, -3.33e-06]], dtype=float32)}\n",
      "3/3 [==============================] - 0s 2ms/step - loss: 0.6931 - accuracy: 0.5000\n",
      "2022-11-07T17:27:08.162231\n",
      "accuracy: 0.5\n",
      "[-2.078753e-06, 2.2502068e-06, -7.484505e-08, 7.4588615e-06, -9.559849e-06, 6.931077e-08, -2.582721e-06, 3.2693072e-06, -1.4135028e-06, 4.5104052e-06, -5.1800935e-06, 1.2933033e-06, -1.5820397e-06, 2.290593e-06, -1.4511829e-06, 0.0012932438, -0.00078205334, 2.130305e-06, -6.4866254e-07, 8.205478e-06, -1.6172964e-06, 1.9760435e-05, -3.5468838e-06, -0.00058571703, 0.0005857168, 0.0011090068, -0.0011090072, 2.8454702e-05, -2.8454058e-05]\n",
      "[0, 0, 0, 0, 0, 0, 0, 0, 0, 0, 0, 0, 0, 0, 0, 25, 143, 0, 0, 0, 0, 0, 0, 139, 11, 22, 150, 0, 0, 128]\n"
     ]
    }
   ],
   "source": [
    "start=time.time()\n",
    "if serial_flag:\n",
    "    try:\n",
    "        ser = serial.Serial(COMport, 9600)\n",
    "        while time.time()-start<1:\n",
    "            pass        \n",
    "    except:\n",
    "        pass\n",
    "\n",
    "\n",
    "\n",
    "model.fit(x_train, y_train, epochs=1, verbose=0)\n",
    "\n",
    "name_list=[]\n",
    "weight_previous={}\n",
    "with h5py.File(\"model_files/weight.hdf5\",'r+') as f:\n",
    "    f.visit(append)\n",
    "    for name in name_list:\n",
    "        if isinstance(f[name], h5py.Dataset):        \n",
    "            weight_previous[name]=f[name][()]\n",
    "\n",
    "model.save_weights(\"model_files/weight.hdf5\")\n",
    "\n",
    "name_list=[]\n",
    "weight_current={}\n",
    "with h5py.File(\"model_files/weight.hdf5\",'r+') as f:\n",
    "    f.visit(append)\n",
    "    for name in name_list:\n",
    "        if isinstance(f[name], h5py.Dataset):        \n",
    "            weight_current[name]=f[name][()]\n",
    "\n",
    "weight_change={}\n",
    "weight_change_list=[]\n",
    "for item in weight_current:\n",
    "    change=weight_current[item] - weight_previous[item]\n",
    "    if len(change.shape)==1:\n",
    "            list_item=change\n",
    "    else:\n",
    "        list_item=list(itertools.chain.from_iterable(change))\n",
    "    weight_change_list.extend(list_item)\n",
    "    weight_change[item] = weight_current[item] - weight_previous[item]\n",
    "\n",
    "sec_list=weight_change_list.copy()\n",
    "for i in range(len(weight_change_list)):\n",
    "    sec_list[i]=int(weight_change_list[i]/weight_per_depth/depth_per_sec)\n",
    "    if sec_list[i]>127:\n",
    "        sec_list[i]=127\n",
    "    if sec_list[i]<-127:\n",
    "        sec_list[i]=-127\n",
    "sec_list.append(128) # End\n",
    "\n",
    "send(sec_list, print_data=False)\n",
    "while True:\n",
    "    try:\n",
    "        depth_current=pd.read_csv(\"model_files/depth_info.csv\", header=None)\n",
    "    except:\n",
    "        pass\n",
    "    else:\n",
    "        break\n",
    "\n",
    "weight_matrix=(depth_current-depth_init)*weight_per_depth\n",
    "\n",
    "new_weight_list=list(itertools.chain.from_iterable(weight_matrix.values.tolist()))\n",
    "\n",
    "name_list=[]\n",
    "stored_count=0\n",
    "with h5py.File(\"model_files/weight.hdf5\",'r+') as f:\n",
    "    f.visit(append)\n",
    "    for name in name_list:\n",
    "        if isinstance(f[name], h5py.Dataset):\n",
    "            if len(data[name].shape)==1: # bias\n",
    "                for x in range(data[name].shape[0]):\n",
    "                    data[name][x]=new_weight_list[stored_count]\n",
    "                    stored_count+=1\n",
    "            elif len(data[name].shape)==2: # weight\n",
    "                for x in range(data[name].shape[0]):\n",
    "                    for y in range(data[name].shape[1]):\n",
    "                        data[name][x][y]=new_weight_list[stored_count]\n",
    "                        stored_count+=1\n",
    "            else: #?\n",
    "                raise UserWarning(\"length>3\")\n",
    "            f[name][()]=data[name]\n",
    "name_list=[]\n",
    "weight_previous={}\n",
    "with h5py.File(\"model_files/weight.hdf5\",'r+') as f:\n",
    "    f.visit(append)\n",
    "    for name in name_list:\n",
    "        if isinstance(f[name], h5py.Dataset):        \n",
    "            weight_previous[name]=f[name][()]\n",
    "print(weight_previous)\n",
    "\n",
    "model=tf.keras.models.model_from_json(open(\"model_files/model.json\", \"r\").read())\n",
    "model.load_weights(\"model_files/weight.hdf5\")\n",
    "model.compile(optimizer='adam', loss=loss_fn, metrics=['accuracy'])\n",
    "\n",
    "model.evaluate(x_test, y_test)\n",
    "test_result=pd.concat([x_test, y_test, pd.Series(np.argmax(model.predict(x_test, verbose=0), axis = 1), name=\"predict\")], axis=1)\n",
    "print(datetime.datetime.now().isoformat())\n",
    "print(\"accuracy:\", accuracy_score(test_result[\"class\"], test_result[\"predict\"]))\n",
    "#     sns.jointplot(x='x', y='y', data=test_result, hue=\"predict\", marker=\"o\")\n",
    "print(weight_change_list)\n",
    "print(sec_list)\n",
    "\n",
    "clear_output(wait=True)\n",
    "\n",
    "\n",
    "# if serial_flag:\n",
    "#     ser.close()"
   ]
  },
  {
   "cell_type": "code",
   "execution_count": 19,
   "id": "a7d6ddb0",
   "metadata": {},
   "outputs": [],
   "source": [
    "    ser.close()"
   ]
  },
  {
   "cell_type": "code",
   "execution_count": null,
   "id": "64a31d58",
   "metadata": {},
   "outputs": [],
   "source": []
  }
 ],
 "metadata": {
  "kernelspec": {
   "display_name": "Python 3 (ipykernel)",
   "language": "python",
   "name": "python3"
  },
  "language_info": {
   "codemirror_mode": {
    "name": "ipython",
    "version": 3
   },
   "file_extension": ".py",
   "mimetype": "text/x-python",
   "name": "python",
   "nbconvert_exporter": "python",
   "pygments_lexer": "ipython3",
   "version": "3.9.12"
  },
  "toc": {
   "base_numbering": 1,
   "nav_menu": {},
   "number_sections": true,
   "sideBar": true,
   "skip_h1_title": false,
   "title_cell": "Table of Contents",
   "title_sidebar": "Contents",
   "toc_cell": false,
   "toc_position": {
    "height": "calc(100% - 180px)",
    "left": "10px",
    "top": "150px",
    "width": "307.188px"
   },
   "toc_section_display": true,
   "toc_window_display": false
  }
 },
 "nbformat": 4,
 "nbformat_minor": 5
}
