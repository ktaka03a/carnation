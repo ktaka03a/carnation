{
 "cells": [
  {
   "cell_type": "code",
   "execution_count": 1,
   "id": "a0404ffb",
   "metadata": {},
   "outputs": [],
   "source": [
    "import os, sys, math, time, winsound, random, h5py, time, serial\n",
    "import numpy as np, pandas as pd, seaborn as sns, tensorflow as tf\n",
    "# from matplotlib import pyplot as plt\n",
    "from tensorflow import keras\n",
    "from keras.models import model_from_json\n",
    "from tensorflow.keras import layers\n",
    "from scipy import stats\n",
    "from sklearn.model_selection import train_test_split\n",
    "from imblearn.under_sampling import RandomUnderSampler\n",
    "from IPython.display import clear_output\n",
    "import my_module as mm\n",
    "os.makedirs(\"temp\", exist_ok=True)"
   ]
  },
  {
   "cell_type": "markdown",
   "id": "42f151b6",
   "metadata": {},
   "source": [
    "# パラメータ設定"
   ]
  },
  {
   "cell_type": "code",
   "execution_count": 2,
   "id": "846ac4f8",
   "metadata": {},
   "outputs": [],
   "source": [
    "weight_per_depth = 100 ### depth0.01mの変化で重みが1変動\n",
    "\n",
    "depth_per_sec = 0.01### 1秒のソレノイド開放でdepthが0.01m変化\n",
    "\n",
    "# ser = serial.Serial(\"COM9\", 9600)"
   ]
  },
  {
   "cell_type": "markdown",
   "id": "da6fd67a",
   "metadata": {},
   "source": [
    "# 初期化"
   ]
  },
  {
   "cell_type": "markdown",
   "id": "caa70464",
   "metadata": {},
   "source": [
    "## NN構築"
   ]
  },
  {
   "cell_type": "code",
   "execution_count": 3,
   "id": "61b802bd",
   "metadata": {},
   "outputs": [],
   "source": [
    "x_train, y_train, x_test, y_test = mm.make_dataset(1000, 5)"
   ]
  },
  {
   "cell_type": "code",
   "execution_count": 4,
   "id": "559920de",
   "metadata": {},
   "outputs": [],
   "source": [
    "model_initial = keras.models.Sequential([\n",
    "#   layers.Dense(5, activation='tanh'),\n",
    "  layers.Dense(2, activation='tanh'),\n",
    "  layers.Dense(2, activation='tanh'),\n",
    "  layers.Dense(2, activation='tanh')\n",
    "])\n",
    "predictions = model_initial(np.array(x_train)[:1]).numpy()\n",
    "loss_fn = keras.losses.SparseCategoricalCrossentropy(from_logits=True)"
   ]
  },
  {
   "cell_type": "code",
   "execution_count": 5,
   "id": "8bb931f9",
   "metadata": {},
   "outputs": [
    {
     "name": "stdout",
     "output_type": "stream",
     "text": [
      "3/3 [==============================] - 0s 2ms/step - loss: 0.2944 - accuracy: 0.9118\n"
     ]
    },
    {
     "data": {
      "text/plain": [
       "<seaborn.axisgrid.JointGrid at 0x1f787495f70>"
      ]
     },
     "execution_count": 5,
     "metadata": {},
     "output_type": "execute_result"
    },
    {
     "data": {
      "image/png": "[encoded data removed]",
      "text/plain": [
       "<Figure size 432x432 with 3 Axes>"
      ]
     },
     "metadata": {
      "needs_background": "light"
     },
     "output_type": "display_data"
    }
   ],
   "source": [
    "model_initial.compile(optimizer='adam', loss=loss_fn, metrics=['accuracy'])\n",
    "model_initial.fit(x_train, y_train, epochs=10000, verbose=0)\n",
    "model_initial.evaluate(x_test, y_test)\n",
    "test_result_2=pd.concat([x_test, y_test, pd.Series(np.argmax(model_initial.predict(x_test, verbose=0), axis = 1), name=\"predict\")], axis=1)\n",
    "sns.jointplot(x='x', y='y', data=test_result_2, hue=\"predict\", marker=\"o\")"
   ]
  },
  {
   "cell_type": "code",
   "execution_count": 6,
   "id": "5c401667",
   "metadata": {},
   "outputs": [],
   "source": [
    "model_initial.save_weights(\"temp/weight.hdf5\")\n",
    "with open(\"temp/model.json\", 'w') as f:\n",
    "    f.write(model_initial.to_json())"
   ]
  },
  {
   "cell_type": "markdown",
   "id": "b1b5eee6",
   "metadata": {},
   "source": [
    "## Depth読み込み"
   ]
  },
  {
   "cell_type": "code",
   "execution_count": 7,
   "id": "5abf1bf3",
   "metadata": {},
   "outputs": [],
   "source": [
    "initial_weight=pd.read_csv(\"temp/depth_info.csv\", header=None)"
   ]
  },
  {
   "cell_type": "code",
   "execution_count": 8,
   "id": "e06a5ed3",
   "metadata": {},
   "outputs": [
    {
     "data": {
      "text/html": [
       "<div>\n",
       "<style scoped>\n",
       "    .dataframe tbody tr th:only-of-type {\n",
       "        vertical-align: middle;\n",
       "    }\n",
       "\n",
       "    .dataframe tbody tr th {\n",
       "        vertical-align: top;\n",
       "    }\n",
       "\n",
       "    .dataframe thead th {\n",
       "        text-align: right;\n",
       "    }\n",
       "</style>\n",
       "<table border=\"1\" class=\"dataframe\">\n",
       "  <thead>\n",
       "    <tr style=\"text-align: right;\">\n",
       "      <th></th>\n",
       "      <th>0</th>\n",
       "      <th>1</th>\n",
       "      <th>2</th>\n",
       "      <th>3</th>\n",
       "      <th>4</th>\n",
       "    </tr>\n",
       "  </thead>\n",
       "  <tbody>\n",
       "    <tr>\n",
       "      <th>0</th>\n",
       "      <td>1.713</td>\n",
       "      <td>1.692</td>\n",
       "      <td>1.692</td>\n",
       "      <td>1.667</td>\n",
       "      <td>1.704</td>\n",
       "    </tr>\n",
       "    <tr>\n",
       "      <th>1</th>\n",
       "      <td>1.667</td>\n",
       "      <td>1.654</td>\n",
       "      <td>1.692</td>\n",
       "      <td>1.687</td>\n",
       "      <td>1.642</td>\n",
       "    </tr>\n",
       "    <tr>\n",
       "      <th>2</th>\n",
       "      <td>1.654</td>\n",
       "      <td>1.671</td>\n",
       "      <td>1.679</td>\n",
       "      <td>1.683</td>\n",
       "      <td>1.671</td>\n",
       "    </tr>\n",
       "    <tr>\n",
       "      <th>3</th>\n",
       "      <td>0.000</td>\n",
       "      <td>1.683</td>\n",
       "      <td>1.667</td>\n",
       "      <td>0.389</td>\n",
       "      <td>0.000</td>\n",
       "    </tr>\n",
       "    <tr>\n",
       "      <th>4</th>\n",
       "      <td>0.000</td>\n",
       "      <td>0.000</td>\n",
       "      <td>0.000</td>\n",
       "      <td>0.260</td>\n",
       "      <td>0.293</td>\n",
       "    </tr>\n",
       "  </tbody>\n",
       "</table>\n",
       "</div>"
      ],
      "text/plain": [
       "       0      1      2      3      4\n",
       "0  1.713  1.692  1.692  1.667  1.704\n",
       "1  1.667  1.654  1.692  1.687  1.642\n",
       "2  1.654  1.671  1.679  1.683  1.671\n",
       "3  0.000  1.683  1.667  0.389  0.000\n",
       "4  0.000  0.000  0.000  0.260  0.293"
      ]
     },
     "execution_count": 8,
     "metadata": {},
     "output_type": "execute_result"
    }
   ],
   "source": [
    "initial_weight"
   ]
  },
  {
   "cell_type": "code",
   "execution_count": 9,
   "id": "4c7cd0f2",
   "metadata": {},
   "outputs": [],
   "source": [
    "def append(name):\n",
    "    name_list.append(name)"
   ]
  },
  {
   "cell_type": "markdown",
   "id": "db6084d2",
   "metadata": {},
   "source": [
    "# Loop部"
   ]
  },
  {
   "cell_type": "markdown",
   "id": "9adc43a1",
   "metadata": {},
   "source": [
    "## Depth読み込み"
   ]
  },
  {
   "cell_type": "code",
   "execution_count": 10,
   "id": "0a2fed9b",
   "metadata": {
    "scrolled": true
   },
   "outputs": [
    {
     "name": "stdout",
     "output_type": "stream",
     "text": [
      "     0    1    2    3    4\n",
      "0  0.0  0.0  0.0  0.0  0.0\n",
      "1  0.0  0.0  0.0  0.0  0.0\n",
      "2  0.0  0.0  0.0  0.0  0.0\n",
      "3  0.0  0.0  0.0  0.0  0.0\n",
      "4  0.0  0.0  0.0  0.0  0.0\n"
     ]
    }
   ],
   "source": [
    "delta=pd.read_csv(\"temp/depth_info.csv\", header=None)-initial_weight\n",
    "print(delta)\n",
    "clear_output(wait=True)"
   ]
  },
  {
   "cell_type": "markdown",
   "id": "8da94c77",
   "metadata": {},
   "source": [
    "## hdf5読み込み"
   ]
  },
  {
   "cell_type": "code",
   "execution_count": 11,
   "id": "92ddd90b",
   "metadata": {},
   "outputs": [
    {
     "data": {
      "text/plain": [
       "{'dense/dense/bias:0': array([0.9149146, 0.6097837], dtype=float32),\n",
       " 'dense/dense/kernel:0': array([[-1.3604003 ,  1.2883662 ],\n",
       "        [ 0.94684464, -0.34862202],\n",
       "        [ 1.1191518 , -1.1931894 ],\n",
       "        [-0.90875906,  0.23707186]], dtype=float32),\n",
       " 'dense_1/dense_1/bias:0': array([-1.7022043, -1.4635962], dtype=float32),\n",
       " 'dense_1/dense_1/kernel:0': array([[1.4493887, 1.2335726],\n",
       "        [1.9090015, 1.6843911]], dtype=float32),\n",
       " 'dense_2/dense_2/bias:0': array([-1.2151836,  1.2146573], dtype=float32),\n",
       " 'dense_2/dense_2/kernel:0': array([[ 30.042713, -30.068743],\n",
       "        [ 26.985113, -26.943905]], dtype=float32)}"
      ]
     },
     "execution_count": 11,
     "metadata": {},
     "output_type": "execute_result"
    }
   ],
   "source": [
    "name_list=[]\n",
    "data={}\n",
    "with h5py.File(\"temp/weight.hdf5\",'r+') as f:\n",
    "    f.visit(append)\n",
    "    for name in name_list:\n",
    "        if isinstance(f[name], h5py.Dataset):        \n",
    "            data[name]=f[name][()]\n",
    "data"
   ]
  },
  {
   "cell_type": "markdown",
   "id": "ec50cbd1",
   "metadata": {},
   "source": [
    "## 重み修正と反映"
   ]
  },
  {
   "cell_type": "code",
   "execution_count": 12,
   "id": "fe362cd5",
   "metadata": {},
   "outputs": [
    {
     "data": {
      "text/plain": [
       "100"
      ]
     },
     "execution_count": 12,
     "metadata": {},
     "output_type": "execute_result"
    }
   ],
   "source": [
    "weight_per_depth"
   ]
  },
  {
   "cell_type": "code",
   "execution_count": 13,
   "id": "7104748a",
   "metadata": {},
   "outputs": [],
   "source": [
    "# 重み修正 係数weight_per_depth*deltaをweightへ足したり引いたり\n",
    "weight_values=[]\n",
    "for x in range(len(delta)):\n",
    "    for y in range(len(delta.columns)):\n",
    "        weight_values.append(delta.iloc[x,y]*weight_per_depth)"
   ]
  },
  {
   "cell_type": "code",
   "execution_count": 14,
   "id": "2d823c7e",
   "metadata": {},
   "outputs": [
    {
     "name": "stdout",
     "output_type": "stream",
     "text": [
      "2 [0.9149146 0.6097837]\n",
      "4 [[-1.3604003   1.2883662 ]\n",
      " [ 0.94684464 -0.34862202]\n",
      " [ 1.1191518  -1.1931894 ]\n",
      " [-0.90875906  0.23707186]]\n",
      "2 [-1.7022043 -1.4635962]\n",
      "2 [[1.4493887 1.2335726]\n",
      " [1.9090015 1.6843911]]\n",
      "2 [-1.2151836  1.2146573]\n",
      "2 [[ 30.042713 -30.068743]\n",
      " [ 26.985113 -26.943905]]\n",
      "22\n"
     ]
    }
   ],
   "source": [
    "count=0\n",
    "for name in data:\n",
    "    print(len(data[name]), data[name])\n",
    "    if len(data[name].shape)==1: # bias\n",
    "        for x in range(data[name].shape[0]):\n",
    "            data[name][x]=weight_values[count]\n",
    "            count+=1\n",
    "    elif len(data[name].shape)==2: # weight\n",
    "        for x in range(data[name].shape[0]):\n",
    "            for y in range(data[name].shape[1]):\n",
    "                data[name][x][y]=weight_values[count]\n",
    "                count+=1\n",
    "print(count)"
   ]
  },
  {
   "cell_type": "code",
   "execution_count": 15,
   "id": "6493b221",
   "metadata": {},
   "outputs": [
    {
     "name": "stdout",
     "output_type": "stream",
     "text": [
      "2 [0. 0.]\n",
      "4 [[0. 0.]\n",
      " [0. 0.]\n",
      " [0. 0.]\n",
      " [0. 0.]]\n",
      "2 [0. 0.]\n",
      "2 [[0. 0.]\n",
      " [0. 0.]]\n",
      "2 [0. 0.]\n",
      "2 [[0. 0.]\n",
      " [0. 0.]]\n"
     ]
    }
   ],
   "source": [
    "for name in data:\n",
    "    print(len(data[name]), data[name])"
   ]
  },
  {
   "cell_type": "markdown",
   "id": "9dcf8543",
   "metadata": {},
   "source": [
    "## 修正重みをhdf5へ反映"
   ]
  },
  {
   "cell_type": "code",
   "execution_count": 16,
   "id": "48ff5b36",
   "metadata": {},
   "outputs": [
    {
     "name": "stdout",
     "output_type": "stream",
     "text": [
      "[0. 0.]\n",
      "[[0. 0.]\n",
      " [0. 0.]\n",
      " [0. 0.]\n",
      " [0. 0.]]\n",
      "[0. 0.]\n",
      "[[0. 0.]\n",
      " [0. 0.]]\n",
      "[0. 0.]\n",
      "[[0. 0.]\n",
      " [0. 0.]]\n"
     ]
    }
   ],
   "source": [
    "name_list=[]\n",
    "with h5py.File(\"temp/weight.hdf5\",'r+') as f:\n",
    "    f.visit(append)\n",
    "    for name in name_list:\n",
    "        if isinstance(f[name], h5py.Dataset):\n",
    "            if len(data[name].shape)==1: # bias\n",
    "                for x in range(data[name].shape[0]):\n",
    "                    data[name][x]=0\n",
    "            elif len(data[name].shape)==2: # weight\n",
    "                for x in range(data[name].shape[0]):\n",
    "                    for y in range(data[name].shape[1]):\n",
    "                        data[name][x][y]=0\n",
    "            else: #?\n",
    "                raise UserWarning(\"length>3\")\n",
    "            f[name][()]=data[name]\n",
    "            print(f[name][()])"
   ]
  },
  {
   "cell_type": "markdown",
   "id": "abade8c9",
   "metadata": {},
   "source": [
    "## モデル再コンパイル&予測スコア出力"
   ]
  },
  {
   "cell_type": "code",
   "execution_count": 17,
   "id": "d92c8ad5",
   "metadata": {},
   "outputs": [
    {
     "name": "stdout",
     "output_type": "stream",
     "text": [
      "3/3 [==============================] - 0s 2ms/step - loss: 0.6931 - accuracy: 0.5000\n"
     ]
    },
    {
     "data": {
      "text/plain": [
       "<seaborn.axisgrid.JointGrid at 0x1f7b9d3af40>"
      ]
     },
     "execution_count": 17,
     "metadata": {},
     "output_type": "execute_result"
    },
    {
     "data": {
      "image/png": "[encoded data removed]",
      "text/plain": [
       "<Figure size 432x432 with 3 Axes>"
      ]
     },
     "metadata": {
      "needs_background": "light"
     },
     "output_type": "display_data"
    }
   ],
   "source": [
    "model=tf.keras.models.model_from_json(open(\"temp/model.json\", \"r\").read())\n",
    "model.load_weights(\"temp/weight.hdf5\")\n",
    "model.compile(optimizer='adam', loss=loss_fn, metrics=['accuracy'])\n",
    "model.evaluate(x_test, y_test)\n",
    "test_result=pd.concat([x_test, y_test, pd.Series(np.argmax(model.predict(x_test, verbose=0), axis = 1), name=\"predict\")], axis=1)\n",
    "sns.jointplot(x='x', y='y', data=test_result, hue=\"predict\", marker=\"o\")"
   ]
  },
  {
   "cell_type": "markdown",
   "id": "b07ba48a",
   "metadata": {},
   "source": [
    "## ちょっと学習"
   ]
  },
  {
   "cell_type": "markdown",
   "id": "016d3a7c",
   "metadata": {},
   "source": [
    "## Arduinoへソレノイド操作の信号送信"
   ]
  },
  {
   "cell_type": "markdown",
   "id": "cc43e7e5",
   "metadata": {},
   "source": [
    "### 学習前の重み情報を取得"
   ]
  },
  {
   "cell_type": "code",
   "execution_count": 18,
   "id": "88b57061",
   "metadata": {},
   "outputs": [
    {
     "name": "stdout",
     "output_type": "stream",
     "text": [
      "[0.0, 0.0, 0.0, 0.0, 0.0, 0.0, 0.0, 0.0, 0.0, 0.0, 0.0, 0.0, 0.0, 0.0, 0.0, 0.0, 0.0, 0.0, 0.0, 0.0, 0.0, 0.0]\n"
     ]
    }
   ],
   "source": [
    "weight_old=[]\n",
    "for name in data:\n",
    "#     print(len(data[name]), data[name])\n",
    "    if len(data[name].shape)==1: # bias\n",
    "        for x in range(data[name].shape[0]):\n",
    "            weight_old.append(data[name][x])\n",
    "    elif len(data[name].shape)==2: # weight\n",
    "        for x in range(data[name].shape[0]):\n",
    "            for y in range(data[name].shape[1]):\n",
    "                weight_old.append(data[name][x][y])\n",
    "print(weight_old)"
   ]
  },
  {
   "cell_type": "markdown",
   "id": "7011fbb5",
   "metadata": {},
   "source": [
    "### 学習後の重み情報を取得"
   ]
  },
  {
   "cell_type": "code",
   "execution_count": 19,
   "id": "93822cf6",
   "metadata": {},
   "outputs": [],
   "source": [
    "model.save_weights(\"temp/weight.hdf5\")"
   ]
  },
  {
   "cell_type": "code",
   "execution_count": 20,
   "id": "ba92c301",
   "metadata": {},
   "outputs": [],
   "source": [
    "name_list=[]\n",
    "data={}\n",
    "with h5py.File(\"temp/weight.hdf5\",'r+') as f:\n",
    "    f.visit(append)\n",
    "    for name in name_list:\n",
    "        if isinstance(f[name], h5py.Dataset):        \n",
    "            data[name]=f[name][()]"
   ]
  },
  {
   "cell_type": "code",
   "execution_count": 21,
   "id": "9394730f",
   "metadata": {},
   "outputs": [
    {
     "name": "stdout",
     "output_type": "stream",
     "text": [
      "[0.0, 0.0, 0.0, 0.0, 0.0, 0.0, 0.0, 0.0, 0.0, 0.0, 0.0, 0.0, 0.0, 0.0, 0.0, 0.0, 0.0, 0.0, 0.0, 0.0, 0.0, 0.0]\n"
     ]
    }
   ],
   "source": [
    "weight_fixed=[]\n",
    "for name in data:\n",
    "    if len(data[name].shape)==1: # bias\n",
    "        for x in range(data[name].shape[0]):\n",
    "            weight_fixed.append(data[name][x])\n",
    "    elif len(data[name].shape)==2: # weight\n",
    "        for x in range(data[name].shape[0]):\n",
    "            for y in range(data[name].shape[1]):\n",
    "                weight_fixed.append(data[name][x][y])\n",
    "print(weight_fixed)"
   ]
  },
  {
   "cell_type": "code",
   "execution_count": 22,
   "id": "a13b5bc5",
   "metadata": {},
   "outputs": [],
   "source": [
    "order=[]\n",
    "for i in range(len(weight_old)):\n",
    "    order.append((weight_fixed[i]-weight_old[i])/weight_per_depth/depth_per_sec)"
   ]
  },
  {
   "cell_type": "markdown",
   "id": "0149fa78",
   "metadata": {},
   "source": [
    "### シリアル通信"
   ]
  },
  {
   "cell_type": "code",
   "execution_count": 23,
   "id": "e6388856",
   "metadata": {},
   "outputs": [
    {
     "ename": "NameError",
     "evalue": "name 'ser' is not defined",
     "output_type": "error",
     "traceback": [
      "\u001b[1;31m---------------------------------------------------------------------------\u001b[0m",
      "\u001b[1;31mNameError\u001b[0m                                 Traceback (most recent call last)",
      "Input \u001b[1;32mIn [23]\u001b[0m, in \u001b[0;36m<cell line: 1>\u001b[1;34m()\u001b[0m\n\u001b[1;32m----> 1\u001b[0m \u001b[43mser\u001b[49m\u001b[38;5;241m.\u001b[39mwrite(order)\n",
      "\u001b[1;31mNameError\u001b[0m: name 'ser' is not defined"
     ]
    }
   ],
   "source": [
    "ser.write(order)"
   ]
  },
  {
   "cell_type": "code",
   "execution_count": null,
   "id": "20808734",
   "metadata": {},
   "outputs": [],
   "source": [
    "time.sleep(1) ## ? "
   ]
  },
  {
   "cell_type": "code",
   "execution_count": null,
   "id": "4799701b",
   "metadata": {},
   "outputs": [],
   "source": [
    "\n"
   ]
  }
 ],
 "metadata": {
  "kernelspec": {
   "display_name": "Python 3 (ipykernel)",
   "language": "python",
   "name": "python3"
  },
  "language_info": {
   "codemirror_mode": {
    "name": "ipython",
    "version": 3
   },
   "file_extension": ".py",
   "mimetype": "text/x-python",
   "name": "python",
   "nbconvert_exporter": "python",
   "pygments_lexer": "ipython3",
   "version": "3.9.12"
  },
  "toc": {
   "base_numbering": 1,
   "nav_menu": {},
   "number_sections": true,
   "sideBar": true,
   "skip_h1_title": false,
   "title_cell": "Table of Contents",
   "title_sidebar": "Contents",
   "toc_cell": false,
   "toc_position": {
    "height": "calc(100% - 180px)",
    "left": "10px",
    "top": "150px",
    "width": "307.2px"
   },
   "toc_section_display": true,
   "toc_window_display": true
  }
 },
 "nbformat": 4,
 "nbformat_minor": 5
}
