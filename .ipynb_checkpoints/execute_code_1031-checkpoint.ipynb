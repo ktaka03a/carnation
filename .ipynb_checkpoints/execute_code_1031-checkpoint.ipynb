{
 "cells": [
  {
   "cell_type": "markdown",
   "id": "9840fe14",
   "metadata": {},
   "source": [
    "# import & 関数定義"
   ]
  },
  {
   "cell_type": "code",
   "execution_count": 114,
   "id": "a0404ffb",
   "metadata": {},
   "outputs": [],
   "source": [
    "import os, sys, math, time, winsound, random, h5py, time, serial, itertools\n",
    "import numpy as np, pandas as pd, seaborn as sns, tensorflow as tf\n",
    "# from matplotlib import pyplot as plt\n",
    "from tensorflow import keras\n",
    "from keras.models import model_from_json\n",
    "from tensorflow.keras import layers\n",
    "from scipy import stats\n",
    "from sklearn.model_selection import train_test_split\n",
    "from imblearn.under_sampling import RandomUnderSampler\n",
    "from IPython.display import clear_output\n",
    "import my_module as mm\n",
    "\n",
    "os.makedirs(\"model_files\", exist_ok=True)"
   ]
  },
  {
   "cell_type": "code",
   "execution_count": 2,
   "id": "547c8633",
   "metadata": {},
   "outputs": [],
   "source": [
    "def append(name):\n",
    "    name_list.append(name)"
   ]
  },
  {
   "cell_type": "code",
   "execution_count": 164,
   "id": "c0299832",
   "metadata": {},
   "outputs": [],
   "source": [
    "def send(datalist, print_data=False):\n",
    "    for i in range(len(datalist)):\n",
    "        if datalist[i]<0:\n",
    "            datalist[i]=abs(datalist[i])\n",
    "            datalist[i]+=128\n",
    "        else:\n",
    "            datalist[i]=abs(datalist[i])\n",
    "        if print_data:\n",
    "            print(datalist[i])\n",
    "    if serial:\n",
    "        ser.write(bytes(datalist))"
   ]
  },
  {
   "cell_type": "markdown",
   "id": "42f151b6",
   "metadata": {},
   "source": [
    "# パラメータ設定"
   ]
  },
  {
   "cell_type": "code",
   "execution_count": 159,
   "id": "47cb4745",
   "metadata": {},
   "outputs": [],
   "source": [
    "weight_per_depth = 0.01 ### 重みの変化量に対するdepthの変化量(1/m)\n",
    "depth_per_sec = 0.005### ソレノイド開放時間に対する砂山のdepth変化量(m/sec)\n",
    "serial=False"
   ]
  },
  {
   "cell_type": "code",
   "execution_count": 160,
   "id": "846ac4f8",
   "metadata": {},
   "outputs": [],
   "source": [
    "if serial:\n",
    "    ser = serial.Serial(\"COM9\", 9600)"
   ]
  },
  {
   "cell_type": "markdown",
   "id": "da6fd67a",
   "metadata": {},
   "source": [
    "# 初期化"
   ]
  },
  {
   "cell_type": "markdown",
   "id": "caa70464",
   "metadata": {},
   "source": [
    "## NN構築"
   ]
  },
  {
   "cell_type": "code",
   "execution_count": 5,
   "id": "61b802bd",
   "metadata": {},
   "outputs": [],
   "source": [
    "x_train, y_train, x_test, y_test = mm.make_dataset(1000, 5)"
   ]
  },
  {
   "cell_type": "code",
   "execution_count": 58,
   "id": "559920de",
   "metadata": {},
   "outputs": [],
   "source": [
    "model_initial = keras.models.Sequential([\n",
    "#   layers.Dense(3, activation='tanh'),\n",
    "  layers.Dense(3, activation='tanh'),\n",
    "  layers.Dense(2, activation='tanh'),\n",
    "  layers.Dense(2, activation='tanh')\n",
    "])\n",
    "predictions = model_initial(np.array(x_train)[:1]).numpy()\n",
    "loss_fn = keras.losses.SparseCategoricalCrossentropy(from_logits=True)"
   ]
  },
  {
   "cell_type": "code",
   "execution_count": 59,
   "id": "8bb931f9",
   "metadata": {},
   "outputs": [
    {
     "name": "stdout",
     "output_type": "stream",
     "text": [
      "3/3 [==============================] - 0s 1ms/step - loss: 0.5354 - accuracy: 0.7361\n"
     ]
    },
    {
     "data": {
      "text/plain": [
       "<seaborn.axisgrid.JointGrid at 0x1e87e2758e0>"
      ]
     },
     "execution_count": 59,
     "metadata": {},
     "output_type": "execute_result"
    },
    {
     "data": {
      "image/png": "[encoded data removed]",
      "text/plain": [
       "<Figure size 432x432 with 3 Axes>"
      ]
     },
     "metadata": {
      "needs_background": "light"
     },
     "output_type": "display_data"
    }
   ],
   "source": [
    "model_initial.compile(optimizer='adam', loss=loss_fn, metrics=['accuracy'])\n",
    "model_initial.fit(x_train, y_train, epochs=100, verbose=0)\n",
    "model_initial.evaluate(x_test, y_test)\n",
    "test_result_2=pd.concat([x_test, y_test, pd.Series(np.argmax(model_initial.predict(x_test, verbose=0), axis = 1), name=\"predict\")], axis=1)\n",
    "sns.jointplot(x='x', y='y', data=test_result_2, hue=\"predict\", marker=\"o\")"
   ]
  },
  {
   "cell_type": "code",
   "execution_count": 187,
   "id": "5c401667",
   "metadata": {},
   "outputs": [],
   "source": [
    "model_initial.save_weights(\"model_files/weight.hdf5\")\n",
    "model_initial.save_weights(\"model_files/weight_init.hdf5\")\n",
    "with open(\"model_files/model.json\", 'w') as f:\n",
    "    f.write(model_initial.to_json())"
   ]
  },
  {
   "cell_type": "code",
   "execution_count": 61,
   "id": "75d3524f",
   "metadata": {},
   "outputs": [],
   "source": [
    "name_list=[]\n",
    "data={}\n",
    "with h5py.File(\"model_files/weight.hdf5\",'r+') as f:\n",
    "    f.visit(append)\n",
    "    for name in name_list:\n",
    "        if isinstance(f[name], h5py.Dataset):        \n",
    "            data[name]=f[name][()]"
   ]
  },
  {
   "cell_type": "code",
   "execution_count": 62,
   "id": "f734785e",
   "metadata": {},
   "outputs": [
    {
     "name": "stdout",
     "output_type": "stream",
     "text": [
      "[ 0.7475028   0.69138515 -0.76085514] (3,)\n",
      "[[ 0.61723924 -0.3434525   0.3902519 ]\n",
      " [-0.00594584 -0.13407955 -0.31977165]\n",
      " [-0.08661562 -0.26196694 -0.21573365]\n",
      " [-0.17486209 -0.13380603 -0.23029752]] (4, 3)\n",
      "[-0.22114812 -0.38595432] (2,)\n",
      "[[ 0.50566334  0.73974687]\n",
      " [-0.2584501   0.62808955]\n",
      " [-0.87328714 -0.40293834]] (3, 2)\n",
      "[-0.2583094   0.28967893] (2,)\n",
      "[[-0.2090663  -0.48072594]\n",
      " [ 1.4365573  -1.7289419 ]] (2, 2)\n",
      "parameter count: 29\n"
     ]
    }
   ],
   "source": [
    "parameter_count=0\n",
    "for i in list(data):\n",
    "    print(data[i], data[i].shape)\n",
    "    if len(data[i].shape)>1:\n",
    "        parameter_count+=data[i].shape[0]*data[i].shape[1]\n",
    "    else:\n",
    "        parameter_count+=data[i].shape[0]\n",
    "print(\"parameter count:\", parameter_count)"
   ]
  },
  {
   "cell_type": "markdown",
   "id": "b1b5eee6",
   "metadata": {},
   "source": [
    "## Depth初期化"
   ]
  },
  {
   "cell_type": "code",
   "execution_count": 175,
   "id": "5abf1bf3",
   "metadata": {},
   "outputs": [],
   "source": [
    "depth_init=pd.read_csv(\"model_files/depth_info.csv\", header=None)\n",
    "# depth_init.to_csv(\"model_files/depth_initial.csv\", header=None, index=None)"
   ]
  },
  {
   "cell_type": "code",
   "execution_count": 176,
   "id": "4c7cd0f2",
   "metadata": {},
   "outputs": [
    {
     "data": {
      "text/html": [
       "<div>\n",
       "<style scoped>\n",
       "    .dataframe tbody tr th:only-of-type {\n",
       "        vertical-align: middle;\n",
       "    }\n",
       "\n",
       "    .dataframe tbody tr th {\n",
       "        vertical-align: top;\n",
       "    }\n",
       "\n",
       "    .dataframe thead th {\n",
       "        text-align: right;\n",
       "    }\n",
       "</style>\n",
       "<table border=\"1\" class=\"dataframe\">\n",
       "  <thead>\n",
       "    <tr style=\"text-align: right;\">\n",
       "      <th></th>\n",
       "      <th>0</th>\n",
       "      <th>1</th>\n",
       "      <th>2</th>\n",
       "      <th>3</th>\n",
       "      <th>4</th>\n",
       "    </tr>\n",
       "  </thead>\n",
       "  <tbody>\n",
       "    <tr>\n",
       "      <th>0</th>\n",
       "      <td>0</td>\n",
       "      <td>0.000</td>\n",
       "      <td>0.000</td>\n",
       "      <td>0.000</td>\n",
       "      <td>0.000</td>\n",
       "    </tr>\n",
       "    <tr>\n",
       "      <th>1</th>\n",
       "      <td>0</td>\n",
       "      <td>0.000</td>\n",
       "      <td>0.000</td>\n",
       "      <td>0.264</td>\n",
       "      <td>0.241</td>\n",
       "    </tr>\n",
       "    <tr>\n",
       "      <th>2</th>\n",
       "      <td>0</td>\n",
       "      <td>0.000</td>\n",
       "      <td>0.000</td>\n",
       "      <td>0.000</td>\n",
       "      <td>0.430</td>\n",
       "    </tr>\n",
       "    <tr>\n",
       "      <th>3</th>\n",
       "      <td>0</td>\n",
       "      <td>0.000</td>\n",
       "      <td>0.000</td>\n",
       "      <td>0.421</td>\n",
       "      <td>2.358</td>\n",
       "    </tr>\n",
       "    <tr>\n",
       "      <th>4</th>\n",
       "      <td>0</td>\n",
       "      <td>0.477</td>\n",
       "      <td>0.412</td>\n",
       "      <td>1.917</td>\n",
       "      <td>1.996</td>\n",
       "    </tr>\n",
       "  </tbody>\n",
       "</table>\n",
       "</div>"
      ],
      "text/plain": [
       "   0      1      2      3      4\n",
       "0  0  0.000  0.000  0.000  0.000\n",
       "1  0  0.000  0.000  0.264  0.241\n",
       "2  0  0.000  0.000  0.000  0.430\n",
       "3  0  0.000  0.000  0.421  2.358\n",
       "4  0  0.477  0.412  1.917  1.996"
      ]
     },
     "execution_count": 176,
     "metadata": {},
     "output_type": "execute_result"
    }
   ],
   "source": [
    "depth_init"
   ]
  },
  {
   "cell_type": "code",
   "execution_count": null,
   "id": "67c5207f",
   "metadata": {},
   "outputs": [],
   "source": []
  },
  {
   "cell_type": "markdown",
   "id": "db6084d2",
   "metadata": {},
   "source": [
    "# Loop部"
   ]
  },
  {
   "cell_type": "markdown",
   "id": "9224a6d8",
   "metadata": {},
   "source": [
    "## ちょっと学習\n"
   ]
  },
  {
   "cell_type": "code",
   "execution_count": 67,
   "id": "c11824a6",
   "metadata": {},
   "outputs": [
    {
     "data": {
      "text/plain": [
       "<keras.callbacks.History at 0x1e87e5de430>"
      ]
     },
     "execution_count": 67,
     "metadata": {},
     "output_type": "execute_result"
    }
   ],
   "source": [
    "model.fit(x_train, y_train, epochs=1, verbose=0)"
   ]
  },
  {
   "cell_type": "markdown",
   "id": "6648bd02",
   "metadata": {},
   "source": [
    "## 重み変化量を計算"
   ]
  },
  {
   "cell_type": "markdown",
   "id": "5bbd9128",
   "metadata": {},
   "source": [
    "### 前回の重みを読み込み"
   ]
  },
  {
   "cell_type": "code",
   "execution_count": 73,
   "id": "179a2d1f",
   "metadata": {},
   "outputs": [],
   "source": [
    "name_list=[]\n",
    "weight_previous={}\n",
    "with h5py.File(\"model_files/weight.hdf5\",'r+') as f:\n",
    "    f.visit(append)\n",
    "    for name in name_list:\n",
    "        if isinstance(f[name], h5py.Dataset):        \n",
    "            weight_previous[name]=f[name][()]"
   ]
  },
  {
   "cell_type": "markdown",
   "id": "c7b5afce",
   "metadata": {},
   "source": [
    "### 学習後の重みを書き出し&読み込み"
   ]
  },
  {
   "cell_type": "code",
   "execution_count": 75,
   "id": "13998da3",
   "metadata": {},
   "outputs": [],
   "source": [
    "model.save_weights(\"model_files/weight.hdf5\")\n",
    "\n",
    "name_list=[]\n",
    "weight_current={}\n",
    "with h5py.File(\"model_files/weight.hdf5\",'r+') as f:\n",
    "    f.visit(append)\n",
    "    for name in name_list:\n",
    "        if isinstance(f[name], h5py.Dataset):        \n",
    "            weight_current[name]=f[name][()]"
   ]
  },
  {
   "cell_type": "code",
   "execution_count": 115,
   "id": "ebcc36d0",
   "metadata": {},
   "outputs": [
    {
     "data": {
      "text/plain": [
       "{'dense_21/dense_21/bias:0': array([ 0.00570107,  0.00236863, -0.00684506], dtype=float32),\n",
       " 'dense_21/dense_21/kernel:0': array([[-0.00047338, -0.0005382 ,  0.00042751],\n",
       "        [-0.00370957, -0.00015627, -0.00540981],\n",
       "        [-0.00328165,  0.00054872, -0.00045714],\n",
       "        [-0.00198852,  0.00077419, -0.00228177]], dtype=float32),\n",
       " 'dense_22/dense_22/bias:0': array([-0.00116672, -0.00579292], dtype=float32),\n",
       " 'dense_22/dense_22/kernel:0': array([[ 0.00450045,  0.00114387],\n",
       "        [ 0.00036117,  0.00196034],\n",
       "        [-0.00132251, -0.00349167]], dtype=float32),\n",
       " 'dense_23/dense_23/bias:0': array([-0.00274867,  0.00508785], dtype=float32),\n",
       " 'dense_23/dense_23/kernel:0': array([[ 0.00867769, -0.006962  ],\n",
       "        [ 0.00961816, -0.00933552]], dtype=float32)}"
      ]
     },
     "execution_count": 115,
     "metadata": {},
     "output_type": "execute_result"
    }
   ],
   "source": [
    "weight_change"
   ]
  },
  {
   "cell_type": "code",
   "execution_count": 142,
   "id": "9edbd95c",
   "metadata": {},
   "outputs": [],
   "source": [
    "weight_change={}\n",
    "weight_change_list=[]\n",
    "for item in weight_current:\n",
    "    change=weight_current[item] - weight_previous[item]\n",
    "    if len(change.shape)==1:\n",
    "            list_item=change\n",
    "    else:\n",
    "        list_item=list(itertools.chain.from_iterable(change))\n",
    "    weight_change_list.extend(list_item)\n",
    "    weight_change[item] = weight_current[item] - weight_previous[item]"
   ]
  },
  {
   "cell_type": "markdown",
   "id": "a845c1aa",
   "metadata": {},
   "source": [
    "## Arduino用に数値を調整して送信"
   ]
  },
  {
   "cell_type": "code",
   "execution_count": 157,
   "id": "ac641511",
   "metadata": {},
   "outputs": [],
   "source": [
    "sec_list=weight_change_list.copy()\n",
    "for i in range(len(weight_change_list)):\n",
    "    sec_list[i]=int(weight_change_list[i]/weight_per_depth/depth_per_sec)\n",
    "    if sec_list[i]>127:\n",
    "        sec_list[i]=127\n",
    "    if sec_list[i]<-127:\n",
    "        sec_list[i]=-127\n",
    "sec_list.append(128) # End"
   ]
  },
  {
   "cell_type": "code",
   "execution_count": 167,
   "id": "49a570ba",
   "metadata": {},
   "outputs": [],
   "source": [
    "send(sec_list, print_data=False)"
   ]
  },
  {
   "cell_type": "code",
   "execution_count": null,
   "id": "af5633af",
   "metadata": {},
   "outputs": [],
   "source": []
  },
  {
   "cell_type": "markdown",
   "id": "6859aac5",
   "metadata": {},
   "source": [
    "## depth.csvを読んで重みに変換"
   ]
  },
  {
   "cell_type": "code",
   "execution_count": 177,
   "id": "bba64016",
   "metadata": {},
   "outputs": [],
   "source": [
    "depth_current=pd.read_csv(\"model_files/depth_info.csv\", header=None)"
   ]
  },
  {
   "cell_type": "code",
   "execution_count": 180,
   "id": "f22083d0",
   "metadata": {},
   "outputs": [],
   "source": [
    "weight_matrix=(depth_current-depth_init)*weight_per_depth"
   ]
  },
  {
   "cell_type": "code",
   "execution_count": 186,
   "id": "9770f4c1",
   "metadata": {},
   "outputs": [],
   "source": [
    "new_weight_list=list(itertools.chain.from_iterable(weight_matrix.values.tolist()))"
   ]
  },
  {
   "cell_type": "code",
   "execution_count": 190,
   "id": "2e3ffa65",
   "metadata": {},
   "outputs": [
    {
     "ename": "IndexError",
     "evalue": "list index out of range",
     "output_type": "error",
     "traceback": [
      "\u001b[1;31m---------------------------------------------------------------------------\u001b[0m",
      "\u001b[1;31mIndexError\u001b[0m                                Traceback (most recent call last)",
      "Input \u001b[1;32mIn [190]\u001b[0m, in \u001b[0;36m<cell line: 3>\u001b[1;34m()\u001b[0m\n\u001b[0;32m     12\u001b[0m     \u001b[38;5;28;01mfor\u001b[39;00m x \u001b[38;5;129;01min\u001b[39;00m \u001b[38;5;28mrange\u001b[39m(data[name]\u001b[38;5;241m.\u001b[39mshape[\u001b[38;5;241m0\u001b[39m]):\n\u001b[0;32m     13\u001b[0m         \u001b[38;5;28;01mfor\u001b[39;00m y \u001b[38;5;129;01min\u001b[39;00m \u001b[38;5;28mrange\u001b[39m(data[name]\u001b[38;5;241m.\u001b[39mshape[\u001b[38;5;241m1\u001b[39m]):\n\u001b[1;32m---> 14\u001b[0m             data[name][x][y]\u001b[38;5;241m=\u001b[39m\u001b[43mnew_weight_list\u001b[49m\u001b[43m[\u001b[49m\u001b[43mstored_count\u001b[49m\u001b[43m]\u001b[49m\n\u001b[0;32m     15\u001b[0m             stored_count\u001b[38;5;241m+\u001b[39m\u001b[38;5;241m=\u001b[39m\u001b[38;5;241m1\u001b[39m\n\u001b[0;32m     16\u001b[0m \u001b[38;5;28;01melse\u001b[39;00m: \u001b[38;5;66;03m#?\u001b[39;00m\n",
      "\u001b[1;31mIndexError\u001b[0m: list index out of range"
     ]
    }
   ],
   "source": [
    "name_list=[]\n",
    "stored_count=0\n",
    "with h5py.File(\"model_files/weight.hdf5\",'r+') as f:\n",
    "    f.visit(append)\n",
    "    for name in name_list:\n",
    "        if isinstance(f[name], h5py.Dataset):\n",
    "            if len(data[name].shape)==1: # bias\n",
    "                for x in range(data[name].shape[0]):\n",
    "                    data[name][x]=new_weight_list[stored_count]\n",
    "                    stored_count+=1\n",
    "            elif len(data[name].shape)==2: # weight\n",
    "                for x in range(data[name].shape[0]):\n",
    "                    for y in range(data[name].shape[1]):\n",
    "                        data[name][x][y]=new_weight_list[stored_count]\n",
    "                        stored_count+=1\n",
    "            else: #?\n",
    "                raise UserWarning(\"length>3\")\n",
    "            f[name][()]=data[name]\n",
    "#             print(f[name][()])"
   ]
  },
  {
   "cell_type": "markdown",
   "id": "4dce3038",
   "metadata": {},
   "source": [
    "### 書き換えた重みを確認"
   ]
  },
  {
   "cell_type": "code",
   "execution_count": 197,
   "id": "7b2e27da",
   "metadata": {},
   "outputs": [
    {
     "data": {
      "text/plain": [
       "{'dense_21/dense_21/bias:0': array([0., 0., 0.], dtype=float32),\n",
       " 'dense_21/dense_21/kernel:0': array([[0., 0., 0.],\n",
       "        [0., 0., 0.],\n",
       "        [0., 0., 0.],\n",
       "        [0., 0., 0.]], dtype=float32),\n",
       " 'dense_22/dense_22/bias:0': array([0., 0.], dtype=float32),\n",
       " 'dense_22/dense_22/kernel:0': array([[0., 0.],\n",
       "        [0., 0.],\n",
       "        [0., 0.]], dtype=float32),\n",
       " 'dense_23/dense_23/bias:0': array([0., 0.], dtype=float32),\n",
       " 'dense_23/dense_23/kernel:0': array([[-0.2090663 , -0.48072594],\n",
       "        [ 1.4365573 , -1.7289419 ]], dtype=float32)}"
      ]
     },
     "execution_count": 197,
     "metadata": {},
     "output_type": "execute_result"
    }
   ],
   "source": [
    "name_list=[]\n",
    "weight_previous={}\n",
    "with h5py.File(\"model_files/weight.hdf5\",'r+') as f:\n",
    "    f.visit(append)\n",
    "    for name in name_list:\n",
    "        if isinstance(f[name], h5py.Dataset):        \n",
    "            weight_previous[name]=f[name][()]\n",
    "weight_previous"
   ]
  },
  {
   "cell_type": "code",
   "execution_count": null,
   "id": "6c56ff67",
   "metadata": {},
   "outputs": [],
   "source": []
  },
  {
   "cell_type": "code",
   "execution_count": null,
   "id": "1cd25942",
   "metadata": {},
   "outputs": [],
   "source": []
  },
  {
   "cell_type": "markdown",
   "id": "6337358f",
   "metadata": {},
   "source": [
    "## モデル再コンパイル&テストスコア出力"
   ]
  },
  {
   "cell_type": "code",
   "execution_count": 198,
   "id": "6d9b892d",
   "metadata": {},
   "outputs": [],
   "source": [
    "model=tf.keras.models.model_from_json(open(\"model_files/model.json\", \"r\").read())\n",
    "model.load_weights(\"model_files/weight.hdf5\")\n",
    "model.compile(optimizer='adam', loss=loss_fn, metrics=['accuracy'])"
   ]
  },
  {
   "cell_type": "code",
   "execution_count": 199,
   "id": "7b661ce3",
   "metadata": {},
   "outputs": [
    {
     "name": "stdout",
     "output_type": "stream",
     "text": [
      "3/3 [==============================] - 0s 2ms/step - loss: 0.6931 - accuracy: 0.5000\n"
     ]
    },
    {
     "data": {
      "text/plain": [
       "<seaborn.axisgrid.JointGrid at 0x1e801184b80>"
      ]
     },
     "execution_count": 199,
     "metadata": {},
     "output_type": "execute_result"
    },
    {
     "data": {
      "image/png": "[encoded data removed]",
      "text/plain": [
       "<Figure size 432x432 with 3 Axes>"
      ]
     },
     "metadata": {
      "needs_background": "light"
     },
     "output_type": "display_data"
    }
   ],
   "source": [
    "model.evaluate(x_test, y_test)\n",
    "test_result=pd.concat([x_test, y_test, pd.Series(np.argmax(model.predict(x_test, verbose=0), axis = 1), name=\"predict\")], axis=1)\n",
    "sns.jointplot(x='x', y='y', data=test_result, hue=\"predict\", marker=\"o\")"
   ]
  },
  {
   "cell_type": "code",
   "execution_count": null,
   "id": "9714a1b3",
   "metadata": {},
   "outputs": [],
   "source": []
  },
  {
   "cell_type": "code",
   "execution_count": null,
   "id": "2e9137c1",
   "metadata": {},
   "outputs": [],
   "source": []
  },
  {
   "cell_type": "code",
   "execution_count": null,
   "id": "234f0b0c",
   "metadata": {},
   "outputs": [],
   "source": []
  },
  {
   "cell_type": "code",
   "execution_count": null,
   "id": "5a660800",
   "metadata": {},
   "outputs": [],
   "source": []
  }
 ],
 "metadata": {
  "kernelspec": {
   "display_name": "Python 3 (ipykernel)",
   "language": "python",
   "name": "python3"
  },
  "language_info": {
   "codemirror_mode": {
    "name": "ipython",
    "version": 3
   },
   "file_extension": ".py",
   "mimetype": "text/x-python",
   "name": "python",
   "nbconvert_exporter": "python",
   "pygments_lexer": "ipython3",
   "version": "3.9.12"
  },
  "toc": {
   "base_numbering": 1,
   "nav_menu": {},
   "number_sections": true,
   "sideBar": true,
   "skip_h1_title": false,
   "title_cell": "Table of Contents",
   "title_sidebar": "Contents",
   "toc_cell": false,
   "toc_position": {
    "height": "calc(100% - 180px)",
    "left": "10px",
    "top": "150px",
    "width": "307.188px"
   },
   "toc_section_display": true,
   "toc_window_display": true
  }
 },
 "nbformat": 4,
 "nbformat_minor": 5
}
