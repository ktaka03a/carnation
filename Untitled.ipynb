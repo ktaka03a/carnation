{
 "cells": [
  {
   "cell_type": "code",
   "execution_count": 37,
   "id": "91c0bca6",
   "metadata": {},
   "outputs": [],
   "source": [
    "import os, sys, math, time, winsound, random, h5py, time, serial\n",
    "import numpy as np, pandas as pd, seaborn as sns, tensorflow as tf"
   ]
  },
  {
   "cell_type": "code",
   "execution_count": 318,
   "id": "c058b04d",
   "metadata": {},
   "outputs": [],
   "source": [
    "\n",
    "depth_per_sec = 0.01### 1秒のソレノイド開放でdepthが0.01m変化\n",
    "\n",
    "ser = serial.Serial(\"COM7\", 9600)"
   ]
  },
  {
   "cell_type": "code",
   "execution_count": 319,
   "id": "7f3b0b0c",
   "metadata": {},
   "outputs": [],
   "source": [
    "def send(datalist):\n",
    "    for i in range(len(datalist)):\n",
    "        if datalist[i]<0:\n",
    "            datalist[i]=abs(datalist[i])\n",
    "            datalist[i]+=128\n",
    "        else:\n",
    "            datalist[i]=abs(datalist[i])\n",
    "        print(datalist[i])\n",
    "    ser.write(bytes(datalist))"
   ]
  },
  {
   "cell_type": "code",
   "execution_count": 335,
   "id": "882536ed",
   "metadata": {},
   "outputs": [
    {
     "name": "stdout",
     "output_type": "stream",
     "text": [
      "127\n",
      "127\n",
      "127\n",
      "255\n",
      "255\n",
      "255\n",
      "0\n"
     ]
    }
   ],
   "source": [
    "send([127 for i in range(3)])\n",
    "send([-127 for i in range(3)])\n",
    "send([0])"
   ]
  },
  {
   "cell_type": "code",
   "execution_count": 264,
   "id": "0c449b0c",
   "metadata": {},
   "outputs": [
    {
     "data": {
      "text/plain": [
       "1"
      ]
     },
     "execution_count": 264,
     "metadata": {},
     "output_type": "execute_result"
    }
   ],
   "source": [
    "# ser.readline()\n",
    "ser.write(chr(127).encode())"
   ]
  },
  {
   "cell_type": "code",
   "execution_count": 1,
   "id": "a368c78a",
   "metadata": {},
   "outputs": [
    {
     "ename": "NameError",
     "evalue": "name 'ser' is not defined",
     "output_type": "error",
     "traceback": [
      "\u001b[1;31m---------------------------------------------------------------------------\u001b[0m",
      "\u001b[1;31mNameError\u001b[0m                                 Traceback (most recent call last)",
      "Input \u001b[1;32mIn [1]\u001b[0m, in \u001b[0;36m<cell line: 1>\u001b[1;34m()\u001b[0m\n\u001b[1;32m----> 1\u001b[0m \u001b[43mser\u001b[49m\u001b[38;5;241m.\u001b[39mclose()\n",
      "\u001b[1;31mNameError\u001b[0m: name 'ser' is not defined"
     ]
    }
   ],
   "source": [
    "ser.close()"
   ]
  },
  {
   "cell_type": "code",
   "execution_count": null,
   "id": "50e7f211",
   "metadata": {},
   "outputs": [],
   "source": []
  },
  {
   "cell_type": "code",
   "execution_count": null,
   "id": "05bdb3a0",
   "metadata": {},
   "outputs": [],
   "source": []
  }
 ],
 "metadata": {
  "kernelspec": {
   "display_name": "Python 3 (ipykernel)",
   "language": "python",
   "name": "python3"
  },
  "language_info": {
   "codemirror_mode": {
    "name": "ipython",
    "version": 3
   },
   "file_extension": ".py",
   "mimetype": "text/x-python",
   "name": "python",
   "nbconvert_exporter": "python",
   "pygments_lexer": "ipython3",
   "version": "3.9.12"
  },
  "toc": {
   "base_numbering": 1,
   "nav_menu": {},
   "number_sections": true,
   "sideBar": true,
   "skip_h1_title": false,
   "title_cell": "Table of Contents",
   "title_sidebar": "Contents",
   "toc_cell": false,
   "toc_position": {},
   "toc_section_display": true,
   "toc_window_display": false
  }
 },
 "nbformat": 4,
 "nbformat_minor": 5
}
