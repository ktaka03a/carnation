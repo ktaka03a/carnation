{
 "cells": [
  {
   "cell_type": "markdown",
   "id": "9840fe14",
   "metadata": {},
   "source": [
    "# import & 関数定義"
   ]
  },
  {
   "cell_type": "code",
   "execution_count": 1,
   "id": "a0404ffb",
   "metadata": {},
   "outputs": [],
   "source": [
    "import os, sys, math, time, winsound, random, h5py, datetime, serial, itertools\n",
    "import numpy as np, pandas as pd, seaborn as sns, tensorflow as tf\n",
    "from matplotlib import pyplot as plt\n",
    "from tensorflow import keras\n",
    "from keras.models import model_from_json\n",
    "from tensorflow.keras import layers\n",
    "from scipy import stats\n",
    "from sklearn.model_selection import train_test_split\n",
    "from imblearn.under_sampling import RandomUnderSampler\n",
    "from IPython.display import clear_output\n",
    "import my_module as mm\n",
    "from sklearn.metrics import accuracy_score, log_loss\n",
    "\n",
    "os.makedirs(\"model_files\", exist_ok=True)"
   ]
  },
  {
   "cell_type": "markdown",
   "id": "42f151b6",
   "metadata": {},
   "source": [
    "# パラメータ設定"
   ]
  },
  {
   "cell_type": "code",
   "execution_count": 3,
   "id": "e36ee960",
   "metadata": {},
   "outputs": [],
   "source": [
    "COMport=\"COM8\""
   ]
  },
  {
   "cell_type": "code",
   "execution_count": 4,
   "id": "2dc71856",
   "metadata": {},
   "outputs": [],
   "source": [
    "def send(datalist, print_data=False):\n",
    "    for i in range(len(datalist)):\n",
    "        if datalist[i]<0:\n",
    "            datalist[i]=abs(datalist[i])\n",
    "            datalist[i]+=128\n",
    "        else:\n",
    "            datalist[i]=abs(datalist[i])\n",
    "        if print_data:\n",
    "            print(datalist[i], end=\", \")\n",
    "    if serial_flag:\n",
    "        ser.write(bytes(datalist))\n",
    "def send_point(position):\n",
    "    send([0 for i in range(position)]+[10, 128])"
   ]
  },
  {
   "cell_type": "code",
   "execution_count": 5,
   "id": "47cb4745",
   "metadata": {},
   "outputs": [
    {
     "name": "stdout",
     "output_type": "stream",
     "text": [
      "weight/sec: 0.001\n"
     ]
    }
   ],
   "source": [
    "# weight_per_depth = 50 ### depthの変化量に対する重みの変化量(1/m)\n",
    "weight_per_depth = 100 ### depthの変化量に対する重みの変化量(1/m)\n",
    "depth_per_sec = 0.001/100### ソレノイド開放時間に対する砂山のdepth変化量(m/sec)\n",
    "serial_flag=True\n",
    "# serial_flag=False\n",
    "\n",
    "print(\"weight/sec:\", weight_per_depth*depth_per_sec)"
   ]
  },
  {
   "cell_type": "code",
   "execution_count": 6,
   "id": "d513e843",
   "metadata": {},
   "outputs": [],
   "source": [
    "depth_mapping=[\n",
    "    [4, 5], [3, 5], [2, 5], [1, 5],\n",
    "    [5, 4], [4, 4], [3, 4], [2, 4], [1, 4], \n",
    "    [5, 3], [4, 3], [3, 3], [2, 3], [1, 3], [0, 3], \n",
    "    [5, 2], [4, 2], [3, 2], [2, 2], [1, 2], \n",
    "    [4, 1], [3, 1], [2, 1], [1, 1], \n",
    "    [4, 0], [3, 0], [2, 0], \n",
    "]"
   ]
  },
  {
   "cell_type": "markdown",
   "id": "da6fd67a",
   "metadata": {},
   "source": [
    "# 初期化"
   ]
  },
  {
   "cell_type": "markdown",
   "id": "caa70464",
   "metadata": {},
   "source": [
    "## NN構築"
   ]
  },
  {
   "cell_type": "code",
   "execution_count": 7,
   "id": "61b802bd",
   "metadata": {},
   "outputs": [],
   "source": [
    "x_train, y_train, x_test, y_test = mm.make_dataset(1000, 5)"
   ]
  },
  {
   "cell_type": "code",
   "execution_count": 8,
   "id": "8bb931f9",
   "metadata": {
    "scrolled": true
   },
   "outputs": [
    {
     "name": "stdout",
     "output_type": "stream",
     "text": [
      "3/3 [==============================] - 0s 1ms/step - loss: 0.1663 - accuracy: 0.9884\n",
      "accuracy: 0.9883720930232558\n",
      "logloss: 0.40161367901059025\n"
     ]
    },
    {
     "data": {
      "image/png": "[encoded data removed]",
      "text/plain": [
       "<Figure size 432x432 with 3 Axes>"
      ]
     },
     "metadata": {
      "needs_background": "light"
     },
     "output_type": "display_data"
    }
   ],
   "source": [
    "model_initial = keras.models.Sequential([\n",
    "  layers.Dense(4, activation='ReLU'),\n",
    "  layers.Dense(4, activation='ReLU'),\n",
    "  layers.Dense(3, activation='tanh'),\n",
    "  layers.Dense(3, activation='tanh'),\n",
    "  layers.Dense(2, activation='tanh'),\n",
    "])\n",
    "predictions = model_initial(np.array(x_train)[:1]).numpy()\n",
    "loss_fn = keras.losses.SparseCategoricalCrossentropy(from_logits=True)\n",
    "\n",
    "model_initial.compile(optimizer='adam', loss=loss_fn, metrics=['accuracy'])\n",
    "model_initial.fit(x_train, y_train, epochs=100, verbose=0)\n",
    "model_initial.evaluate(x_test, y_test)\n",
    "\n",
    "test_result_init=pd.concat([x_test, y_test, pd.Series(np.argmax(model_initial.predict(x_test, verbose=0), axis = 1), name=\"predict\"), ], axis=1)\n",
    "sns.jointplot(x='x', y='y', data=test_result_init, hue=\"predict\", marker=\"o\")\n",
    "print(\"accuracy:\", accuracy_score(test_result_init[\"class\"], test_result_init[\"predict\"]))\n",
    "print(\"logloss:\", log_loss(test_result_init[\"class\"], test_result_init[\"predict\"]))\n"
   ]
  },
  {
   "cell_type": "code",
   "execution_count": 12,
   "id": "756175ef",
   "metadata": {},
   "outputs": [],
   "source": [
    "model_initial.save_weights(\"model_files/weight.hdf5\")\n",
    "model_initial.save_weights(\"model_files/weight_init.hdf5\")\n",
    "with open(\"model_files/model.json\", 'w') as f:\n",
    "    f.write(model_initial.to_json())\n",
    "weight=mm.weight_file_control()"
   ]
  },
  {
   "cell_type": "code",
   "execution_count": 14,
   "id": "5c401667",
   "metadata": {},
   "outputs": [
    {
     "name": "stdout",
     "output_type": "stream",
     "text": [
      "parameter count: 16\n"
     ]
    }
   ],
   "source": [
    "num_params=len(weight.read_bias())\n",
    "print(\"parameter count:\", num_params)"
   ]
  },
  {
   "cell_type": "markdown",
   "id": "b1b5eee6",
   "metadata": {},
   "source": [
    "## Depth初期化"
   ]
  },
  {
   "cell_type": "code",
   "execution_count": 17,
   "id": "5abf1bf3",
   "metadata": {},
   "outputs": [
    {
     "data": {
      "text/html": [
       "<div>\n",
       "<style scoped>\n",
       "    .dataframe tbody tr th:only-of-type {\n",
       "        vertical-align: middle;\n",
       "    }\n",
       "\n",
       "    .dataframe tbody tr th {\n",
       "        vertical-align: top;\n",
       "    }\n",
       "\n",
       "    .dataframe thead th {\n",
       "        text-align: right;\n",
       "    }\n",
       "</style>\n",
       "<table border=\"1\" class=\"dataframe\">\n",
       "  <thead>\n",
       "    <tr style=\"text-align: right;\">\n",
       "      <th></th>\n",
       "      <th>0</th>\n",
       "      <th>1</th>\n",
       "      <th>2</th>\n",
       "      <th>3</th>\n",
       "      <th>4</th>\n",
       "      <th>5</th>\n",
       "    </tr>\n",
       "  </thead>\n",
       "  <tbody>\n",
       "    <tr>\n",
       "      <th>0</th>\n",
       "      <td>-0.296778</td>\n",
       "      <td>-0.337444</td>\n",
       "      <td>-0.319333</td>\n",
       "      <td>-0.300556</td>\n",
       "      <td>-0.311125</td>\n",
       "      <td>-0.323500</td>\n",
       "    </tr>\n",
       "    <tr>\n",
       "      <th>1</th>\n",
       "      <td>-0.312500</td>\n",
       "      <td>-0.297222</td>\n",
       "      <td>-0.299222</td>\n",
       "      <td>-0.301444</td>\n",
       "      <td>-0.301444</td>\n",
       "      <td>-0.302000</td>\n",
       "    </tr>\n",
       "    <tr>\n",
       "      <th>2</th>\n",
       "      <td>-0.295222</td>\n",
       "      <td>-0.295000</td>\n",
       "      <td>-0.294889</td>\n",
       "      <td>-0.291000</td>\n",
       "      <td>-0.293111</td>\n",
       "      <td>-0.293556</td>\n",
       "    </tr>\n",
       "    <tr>\n",
       "      <th>3</th>\n",
       "      <td>-0.301111</td>\n",
       "      <td>-0.298333</td>\n",
       "      <td>-0.293667</td>\n",
       "      <td>-0.290889</td>\n",
       "      <td>-0.294333</td>\n",
       "      <td>-0.300444</td>\n",
       "    </tr>\n",
       "    <tr>\n",
       "      <th>4</th>\n",
       "      <td>-0.299889</td>\n",
       "      <td>-0.299625</td>\n",
       "      <td>-0.295556</td>\n",
       "      <td>-0.291444</td>\n",
       "      <td>-0.294667</td>\n",
       "      <td>-0.288444</td>\n",
       "    </tr>\n",
       "    <tr>\n",
       "      <th>5</th>\n",
       "      <td>-0.318250</td>\n",
       "      <td>-0.338000</td>\n",
       "      <td>-0.303222</td>\n",
       "      <td>-0.292556</td>\n",
       "      <td>-0.302556</td>\n",
       "      <td>-0.315200</td>\n",
       "    </tr>\n",
       "  </tbody>\n",
       "</table>\n",
       "</div>"
      ],
      "text/plain": [
       "          0         1         2         3         4         5\n",
       "0 -0.296778 -0.337444 -0.319333 -0.300556 -0.311125 -0.323500\n",
       "1 -0.312500 -0.297222 -0.299222 -0.301444 -0.301444 -0.302000\n",
       "2 -0.295222 -0.295000 -0.294889 -0.291000 -0.293111 -0.293556\n",
       "3 -0.301111 -0.298333 -0.293667 -0.290889 -0.294333 -0.300444\n",
       "4 -0.299889 -0.299625 -0.295556 -0.291444 -0.294667 -0.288444\n",
       "5 -0.318250 -0.338000 -0.303222 -0.292556 -0.302556 -0.315200"
      ]
     },
     "execution_count": 17,
     "metadata": {},
     "output_type": "execute_result"
    }
   ],
   "source": [
    "depth_init=mm.read_depth()\n",
    "\n",
    "(-depth_init).to_csv(\"model_files/depth_init.csv\", header=None, index=None)\n",
    "depth_init"
   ]
  },
  {
   "cell_type": "code",
   "execution_count": 18,
   "id": "67c5207f",
   "metadata": {},
   "outputs": [
    {
     "name": "stdout",
     "output_type": "stream",
     "text": [
      "3/3 [==============================] - 0s 2ms/step - loss: 0.1663 - accuracy: 0.9884\n",
      "ideal accuracy: 0.9883720930232558\n",
      "ideal logloss: 0.40161367901059025\n"
     ]
    }
   ],
   "source": [
    "# model=tf.keras.models.model_from_json(open(\"model_files/model.json\", \"r\").read())\n",
    "with open(\"model_files/model.json\",'r') as f:\n",
    "    model=tf.keras.models.model_from_json(f.read())\n",
    "\n",
    "model.load_weights(\"model_files/weight.hdf5\")\n",
    "model.compile(optimizer='adam', loss=loss_fn, metrics=['accuracy'])\n",
    "model.evaluate(x_test, y_test)\n",
    "test_result=pd.concat([x_test, y_test, pd.Series(np.argmax(model.predict(x_test, verbose=0), axis = 1), name=\"predict\")], axis=1)\n",
    "# print(datetime.datetime.now().isoformat())\n",
    "print(\"ideal accuracy:\", accuracy_score(test_result[\"class\"], test_result[\"predict\"]))\n",
    "print(\"ideal logloss:\", log_loss(test_result_init[\"class\"], test_result_init[\"predict\"]))"
   ]
  },
  {
   "cell_type": "markdown",
   "id": "f58a36af",
   "metadata": {},
   "source": [
    "# シリアル通信開始"
   ]
  },
  {
   "cell_type": "code",
   "execution_count": 20,
   "id": "04fe9f6d",
   "metadata": {},
   "outputs": [],
   "source": [
    "serial_flag=False"
   ]
  },
  {
   "cell_type": "code",
   "execution_count": 21,
   "id": "8ab97a0b",
   "metadata": {},
   "outputs": [],
   "source": [
    "start=time.time()\n",
    "if serial_flag:\n",
    "    try:\n",
    "        ser = serial.Serial(COMport, 9600, timeout=1)\n",
    "        while time.time()-start<2:\n",
    "            pass\n",
    "        print(\"serial port\", COMport, \"opened\")\n",
    "    except:\n",
    "        print(\"seial port\", COMport, \"connection failed\")"
   ]
  },
  {
   "cell_type": "markdown",
   "id": "db6084d2",
   "metadata": {},
   "source": [
    "# Loop部"
   ]
  },
  {
   "cell_type": "code",
   "execution_count": 26,
   "id": "8bd1989b",
   "metadata": {},
   "outputs": [
    {
     "name": "stdout",
     "output_type": "stream",
     "text": [
      "3/3 [==============================] - 0s 2ms/step - loss: 0.1573 - accuracy: 0.9884\n",
      "ideal accuracy: 0.9883720930232558\n",
      "ideal logloss: 0.40161367901059025\n",
      "previous weight:\n",
      " [-0.18416478, -0.3032774, -0.36660558, -0.12076901, -0.45958418, 0.086326204, -0.4088247, 0.6230366, 0.3905955, 0.5294095, -0.35477096, -0.09597109, -0.21085165, -0.39025941, 0.07224316, -0.1438796]\n",
      "new model weight:\n",
      " [-0.04748478, -0.28089318, -0.45769092, -0.13560867, -0.48224124, 0.1009169, -0.4313043, 0.62165976, 0.409904, 0.5522003, -0.36839765, -0.11348243, -0.22784972, -0.39541358, 0.112931676, -0.13759224]\n"
     ]
    }
   ],
   "source": [
    "if serial_flag:\n",
    "    if not ser.is_open:\n",
    "        ser.open()\n",
    "        time.sleep(2)\n",
    "\n",
    "model.fit(x_train, y_train, epochs=100, verbose=0)\n",
    "model.evaluate(x_test, y_test)\n",
    "test_result=pd.concat([x_test, y_test, pd.Series(np.argmax(model.predict(x_test, verbose=0), axis = 1), name=\"predict\")], axis=1)\n",
    "# print(datetime.datetime.now().isoformat())\n",
    "print(\"ideal accuracy:\", accuracy_score(test_result[\"class\"], test_result[\"predict\"]))\n",
    "print(\"ideal logloss:\", log_loss(test_result[\"class\"], test_result[\"predict\"]))\n",
    "\n",
    "## 前回の重みを読み込み\n",
    "weight_previous=weight.read_bias()\n",
    "\n",
    "## 今回の（訓練後の）重みを書き出し＆読み込み　→今のmodelファイルの値は学習が反映されてる\n",
    "model.save_weights(\"model_files/weight.hdf5\")\n",
    "\n",
    "weight_current=weight.read_bias()\n",
    "weight_ideal=weight.read_bias()\n",
    "weight_ideal_dict=weight.read(\"dict\")\n",
    "\n",
    "## 重み変化量を計算\n",
    "weight_change=[weight_current[i]-weight_previous[i] for i in range(len(weight_current))]\n",
    "    \n",
    "winsound.Beep(2000, 500)\n",
    "print(\"previous weight:\\n\", weight_previous)\n",
    "print(\"new model weight:\\n\", weight_ideal)\n",
    "depth_ideal=depth_init.copy(deep=True)\n",
    "for i, item in enumerate(depth_mapping):\n",
    "#     print(weight_ideal_list[i], item)\n",
    "    if i>len(weight_ideal)-1:\n",
    "        break\n",
    "    depth_ideal.iloc[item[0], item[1]] = depth_ideal.iloc[item[0], item[1]] + weight_ideal[i]/weight_per_depth"
   ]
  },
  {
   "cell_type": "code",
   "execution_count": 40,
   "id": "b5a96286",
   "metadata": {},
   "outputs": [
    {
     "data": {
      "text/html": [
       "<div>\n",
       "<style scoped>\n",
       "    .dataframe tbody tr th:only-of-type {\n",
       "        vertical-align: middle;\n",
       "    }\n",
       "\n",
       "    .dataframe tbody tr th {\n",
       "        vertical-align: top;\n",
       "    }\n",
       "\n",
       "    .dataframe thead th {\n",
       "        text-align: right;\n",
       "    }\n",
       "</style>\n",
       "<table border=\"1\" class=\"dataframe\">\n",
       "  <thead>\n",
       "    <tr style=\"text-align: right;\">\n",
       "      <th></th>\n",
       "      <th>0</th>\n",
       "      <th>1</th>\n",
       "      <th>2</th>\n",
       "      <th>3</th>\n",
       "      <th>4</th>\n",
       "      <th>5</th>\n",
       "    </tr>\n",
       "  </thead>\n",
       "  <tbody>\n",
       "    <tr>\n",
       "      <th>0</th>\n",
       "      <td>0</td>\n",
       "      <td>0</td>\n",
       "      <td>0</td>\n",
       "      <td>40</td>\n",
       "      <td>0</td>\n",
       "      <td>0</td>\n",
       "    </tr>\n",
       "    <tr>\n",
       "      <th>1</th>\n",
       "      <td>0</td>\n",
       "      <td>0</td>\n",
       "      <td>0</td>\n",
       "      <td>-5</td>\n",
       "      <td>19</td>\n",
       "      <td>-14</td>\n",
       "    </tr>\n",
       "    <tr>\n",
       "      <th>2</th>\n",
       "      <td>0</td>\n",
       "      <td>0</td>\n",
       "      <td>0</td>\n",
       "      <td>-16</td>\n",
       "      <td>-1</td>\n",
       "      <td>-91</td>\n",
       "    </tr>\n",
       "    <tr>\n",
       "      <th>3</th>\n",
       "      <td>0</td>\n",
       "      <td>0</td>\n",
       "      <td>0</td>\n",
       "      <td>-17</td>\n",
       "      <td>-22</td>\n",
       "      <td>22</td>\n",
       "    </tr>\n",
       "    <tr>\n",
       "      <th>4</th>\n",
       "      <td>0</td>\n",
       "      <td>0</td>\n",
       "      <td>0</td>\n",
       "      <td>-13</td>\n",
       "      <td>14</td>\n",
       "      <td>136</td>\n",
       "    </tr>\n",
       "    <tr>\n",
       "      <th>5</th>\n",
       "      <td>0</td>\n",
       "      <td>0</td>\n",
       "      <td>6</td>\n",
       "      <td>22</td>\n",
       "      <td>-22</td>\n",
       "      <td>0</td>\n",
       "    </tr>\n",
       "  </tbody>\n",
       "</table>\n",
       "</div>"
      ],
      "text/plain": [
       "   0  1  2   3   4    5\n",
       "0  0  0  0  40   0    0\n",
       "1  0  0  0  -5  19  -14\n",
       "2  0  0  0 -16  -1  -91\n",
       "3  0  0  0 -17 -22   22\n",
       "4  0  0  0 -13  14  136\n",
       "5  0  0  6  22 -22    0"
      ]
     },
     "execution_count": 40,
     "metadata": {},
     "output_type": "execute_result"
    }
   ],
   "source": [
    "## Arduinoに指令送信\n",
    "sec_list=weight_change.copy()\n",
    "\n",
    "sec_map=depth_init.copy(deep=True)\n",
    "for col in sec_map:\n",
    "    sec_map[col]=0\n",
    "\n",
    "for i in range(len(weight_change)):\n",
    "    sec_list[i]=int(weight_change[i]/weight_per_depth/depth_per_sec)\n",
    "    item=depth_mapping[i]\n",
    "    sec_map.iloc[depth_mapping[i][0], depth_mapping[i][1]]=sec_list[i]\n",
    "sec_map"
   ]
  },
  {
   "cell_type": "code",
   "execution_count": 41,
   "id": "755a150c",
   "metadata": {},
   "outputs": [],
   "source": [
    "while max(sec_list)>127 or min(sec_list)<-127:\n",
    "    for i in range(len(sec_list)):\n",
    "        if sec_list[i]>127:\n",
    "            try:\n",
    "                sec_list[i+num_params]=sec_list[i]-127\n",
    "            except IndexError:\n",
    "                sec_list.extend([0 for k in range(num_params)])\n",
    "                sec_list.append(sec_list[i]-127)\n",
    "            sec_list[i]=127\n",
    "        elif sec_list[i]<-127:\n",
    "            try:\n",
    "                sec_list[i+num_params]=sec_list[i]+127\n",
    "            except IndexError:\n",
    "                sec_list.extend([0 for k in range(num_params)])\n",
    "                sec_list.append(sec_list[i]+127)\n",
    "            sec_list[i]=-127\n",
    "sec_list.append(128) # End"
   ]
  },
  {
   "cell_type": "code",
   "execution_count": 42,
   "id": "e6f5a09d",
   "metadata": {},
   "outputs": [
    {
     "name": "stdout",
     "output_type": "stream",
     "text": [
      "127, 22, 219, 142, 150, 14, 150, 129, 19, 22, 141, 145, 144, 133, 40, 6, 0, 0, 0, 0, 0, 0, 0, 0, 0, 0, 0, 0, 0, 0, 0, 0, 9, 128, "
     ]
    }
   ],
   "source": [
    "send(sec_list, print_data=True)\n",
    "\n",
    "winsound.Beep(2000, 500)\n",
    "## この時のdepth値を取り込み\n",
    "clear_output(wait=True)\n",
    "\n",
    "if serial_flag:\n",
    "    start=time.time()\n",
    "    serialdata=0\n",
    "    while serialdata!=255:\n",
    "        serialdata=int.from_bytes(ser.read(), byteorder=\"little\")\n",
    "time.sleep(3)\n",
    "winsound.Beep(2000, 500)"
   ]
  },
  {
   "cell_type": "code",
   "execution_count": 43,
   "id": "e160a96e",
   "metadata": {
    "scrolled": true
   },
   "outputs": [
    {
     "name": "stdout",
     "output_type": "stream",
     "text": [
      "\n",
      "weights after cycle:\n",
      " [0.0, 0.0, 0.0, 0.0, 0.0, 0.0, 0.0, 0.0, 0.0, 0.0, 0.0, 0.0, 0.0, 0.0, 0.0, 0.0]\n",
      "\n",
      "ideal:\n",
      " [-0.04748478, -0.28089318, -0.45769092, -0.13560867, -0.48224124, 0.1009169, -0.4313043, 0.62165976, 0.409904, 0.5522003, -0.36839765, -0.11348243, -0.22784972, -0.39541358, 0.112931676, -0.13759224]\n",
      "WARNING:tensorflow:5 out of the last 19 calls to <function Model.make_test_function.<locals>.test_function at 0x0000015B59F52040> triggered tf.function retracing. Tracing is expensive and the excessive number of tracings could be due to (1) creating @tf.function repeatedly in a loop, (2) passing tensors with different shapes, (3) passing Python objects instead of tensors. For (1), please define your @tf.function outside of the loop. For (2), @tf.function has reduce_retracing=True option that can avoid unnecessary retracing. For (3), please refer to https://www.tensorflow.org/guide/function#controlling_retracing and https://www.tensorflow.org/api_docs/python/tf/function for  more details.\n",
      "3/3 [==============================] - 0s 1ms/step - loss: 1.1256 - accuracy: 0.5000\n",
      "WARNING:tensorflow:5 out of the last 19 calls to <function Model.make_predict_function.<locals>.predict_function at 0x0000015B59A7BDC0> triggered tf.function retracing. Tracing is expensive and the excessive number of tracings could be due to (1) creating @tf.function repeatedly in a loop, (2) passing tensors with different shapes, (3) passing Python objects instead of tensors. For (1), please define your @tf.function outside of the loop. For (2), @tf.function has reduce_retracing=True option that can avoid unnecessary retracing. For (3), please refer to https://www.tensorflow.org/guide/function#controlling_retracing and https://www.tensorflow.org/api_docs/python/tf/function for  more details.\n",
      "accuracy: 0.5\n",
      "logloss: 0.40161367901059025\n"
     ]
    },
    {
     "data": {
      "image/png": "[encoded data removed]",
      "text/plain": [
       "<Figure size 432x432 with 3 Axes>"
      ]
     },
     "metadata": {
      "needs_background": "light"
     },
     "output_type": "display_data"
    }
   ],
   "source": [
    "while True:\n",
    "    while True:\n",
    "        try:\n",
    "            depth_current=mm.read_depth()\n",
    "        except:\n",
    "            pass\n",
    "        else:\n",
    "            break\n",
    "    if 0 not in depth_current.items():\n",
    "        break\n",
    "\n",
    "weight_diff=round((depth_current-depth_init)*weight_per_depth, 7) # depth初期値との差=砂山高さの変動量、係数をかけて初期値0であるweightの変動後の値にしている\n",
    "\n",
    "new_weight=[]\n",
    "for item in depth_mapping:\n",
    "    new_weight.append(weight_diff.iloc[item[0] ,item[1]]) # matrix中の特定のセルの値、セルの番号順に取得してnew_weight_listに格納\n",
    "\n",
    "weight.write_bias(new_weight)\n",
    "with open(\"model_files/model.json\",'r') as f:\n",
    "    model=tf.keras.models.model_from_json(f.read())\n",
    "model.load_weights(\"model_files/weight.hdf5\")\n",
    "model.compile(optimizer='adam', loss=loss_fn, metrics=['accuracy'])\n",
    "\n",
    "print(\"\\nweights after cycle:\\n\", weight.read_bias())\n",
    "print(\"\\nideal:\\n\", weight_ideal)\n",
    "model.evaluate(x_test, y_test)\n",
    "test_result=pd.concat([x_test, y_test, pd.Series(np.argmax(model.predict(x_test, verbose=0), axis = 1), name=\"predict\")], axis=1)\n",
    "print(\"accuracy:\", accuracy_score(test_result[\"class\"], test_result[\"predict\"]))\n",
    "print(\"logloss:\", log_loss(test_result_init[\"class\"], test_result_init[\"predict\"]))\n",
    "sns.jointplot(x='x', y='y', data=test_result, hue=\"predict\", marker=\"o\")\n",
    "winsound.Beep(2000, 500)"
   ]
  },
  {
   "cell_type": "code",
   "execution_count": 31,
   "id": "c56d8359",
   "metadata": {},
   "outputs": [
    {
     "data": {
      "text/html": [
       "<div>\n",
       "<style scoped>\n",
       "    .dataframe tbody tr th:only-of-type {\n",
       "        vertical-align: middle;\n",
       "    }\n",
       "\n",
       "    .dataframe tbody tr th {\n",
       "        vertical-align: top;\n",
       "    }\n",
       "\n",
       "    .dataframe thead th {\n",
       "        text-align: right;\n",
       "    }\n",
       "</style>\n",
       "<table border=\"1\" class=\"dataframe\">\n",
       "  <thead>\n",
       "    <tr style=\"text-align: right;\">\n",
       "      <th></th>\n",
       "      <th>0</th>\n",
       "      <th>1</th>\n",
       "      <th>2</th>\n",
       "      <th>3</th>\n",
       "      <th>4</th>\n",
       "      <th>5</th>\n",
       "    </tr>\n",
       "  </thead>\n",
       "  <tbody>\n",
       "    <tr>\n",
       "      <th>0</th>\n",
       "      <td>0.0</td>\n",
       "      <td>0.000</td>\n",
       "      <td>0.000</td>\n",
       "      <td>-0.003</td>\n",
       "      <td>0.000</td>\n",
       "      <td>0.000</td>\n",
       "    </tr>\n",
       "    <tr>\n",
       "      <th>1</th>\n",
       "      <td>0.0</td>\n",
       "      <td>0.000</td>\n",
       "      <td>-0.005</td>\n",
       "      <td>-0.007</td>\n",
       "      <td>0.012</td>\n",
       "      <td>0.004</td>\n",
       "    </tr>\n",
       "    <tr>\n",
       "      <th>2</th>\n",
       "      <td>0.0</td>\n",
       "      <td>-0.015</td>\n",
       "      <td>0.007</td>\n",
       "      <td>-0.007</td>\n",
       "      <td>0.009</td>\n",
       "      <td>0.019</td>\n",
       "    </tr>\n",
       "    <tr>\n",
       "      <th>3</th>\n",
       "      <td>0.0</td>\n",
       "      <td>0.009</td>\n",
       "      <td>-0.010</td>\n",
       "      <td>0.002</td>\n",
       "      <td>0.010</td>\n",
       "      <td>-0.007</td>\n",
       "    </tr>\n",
       "    <tr>\n",
       "      <th>4</th>\n",
       "      <td>0.0</td>\n",
       "      <td>0.016</td>\n",
       "      <td>0.017</td>\n",
       "      <td>-0.000</td>\n",
       "      <td>-0.003</td>\n",
       "      <td>-0.014</td>\n",
       "    </tr>\n",
       "    <tr>\n",
       "      <th>5</th>\n",
       "      <td>0.0</td>\n",
       "      <td>0.000</td>\n",
       "      <td>-0.009</td>\n",
       "      <td>0.004</td>\n",
       "      <td>-0.003</td>\n",
       "      <td>0.000</td>\n",
       "    </tr>\n",
       "  </tbody>\n",
       "</table>\n",
       "</div>"
      ],
      "text/plain": [
       "     0      1      2      3      4      5\n",
       "0  0.0  0.000  0.000 -0.003  0.000  0.000\n",
       "1  0.0  0.000 -0.005 -0.007  0.012  0.004\n",
       "2  0.0 -0.015  0.007 -0.007  0.009  0.019\n",
       "3  0.0  0.009 -0.010  0.002  0.010 -0.007\n",
       "4  0.0  0.016  0.017 -0.000 -0.003 -0.014\n",
       "5  0.0  0.000 -0.009  0.004 -0.003  0.000"
      ]
     },
     "execution_count": 31,
     "metadata": {},
     "output_type": "execute_result"
    }
   ],
   "source": [
    "round(depth_ideal-depth_init, 3)"
   ]
  },
  {
   "cell_type": "code",
   "execution_count": 32,
   "id": "49d6a247",
   "metadata": {},
   "outputs": [
    {
     "data": {
      "text/html": [
       "<div>\n",
       "<style scoped>\n",
       "    .dataframe tbody tr th:only-of-type {\n",
       "        vertical-align: middle;\n",
       "    }\n",
       "\n",
       "    .dataframe tbody tr th {\n",
       "        vertical-align: top;\n",
       "    }\n",
       "\n",
       "    .dataframe thead th {\n",
       "        text-align: right;\n",
       "    }\n",
       "</style>\n",
       "<table border=\"1\" class=\"dataframe\">\n",
       "  <thead>\n",
       "    <tr style=\"text-align: right;\">\n",
       "      <th></th>\n",
       "      <th>0</th>\n",
       "      <th>1</th>\n",
       "      <th>2</th>\n",
       "      <th>3</th>\n",
       "      <th>4</th>\n",
       "      <th>5</th>\n",
       "    </tr>\n",
       "  </thead>\n",
       "  <tbody>\n",
       "    <tr>\n",
       "      <th>0</th>\n",
       "      <td>-0.000</td>\n",
       "      <td>0.001</td>\n",
       "      <td>-0.001</td>\n",
       "      <td>-0.004</td>\n",
       "      <td>0.000</td>\n",
       "      <td>0.000</td>\n",
       "    </tr>\n",
       "    <tr>\n",
       "      <th>1</th>\n",
       "      <td>0.001</td>\n",
       "      <td>0.000</td>\n",
       "      <td>-0.001</td>\n",
       "      <td>-0.004</td>\n",
       "      <td>0.003</td>\n",
       "      <td>0.013</td>\n",
       "    </tr>\n",
       "    <tr>\n",
       "      <th>2</th>\n",
       "      <td>-0.000</td>\n",
       "      <td>-0.016</td>\n",
       "      <td>0.001</td>\n",
       "      <td>0.009</td>\n",
       "      <td>0.014</td>\n",
       "      <td>0.024</td>\n",
       "    </tr>\n",
       "    <tr>\n",
       "      <th>3</th>\n",
       "      <td>0.001</td>\n",
       "      <td>0.011</td>\n",
       "      <td>-0.001</td>\n",
       "      <td>0.018</td>\n",
       "      <td>0.018</td>\n",
       "      <td>0.008</td>\n",
       "    </tr>\n",
       "    <tr>\n",
       "      <th>4</th>\n",
       "      <td>0.005</td>\n",
       "      <td>0.021</td>\n",
       "      <td>0.013</td>\n",
       "      <td>0.009</td>\n",
       "      <td>0.016</td>\n",
       "      <td>-0.002</td>\n",
       "    </tr>\n",
       "    <tr>\n",
       "      <th>5</th>\n",
       "      <td>0.002</td>\n",
       "      <td>0.000</td>\n",
       "      <td>-0.011</td>\n",
       "      <td>-0.001</td>\n",
       "      <td>0.002</td>\n",
       "      <td>0.001</td>\n",
       "    </tr>\n",
       "  </tbody>\n",
       "</table>\n",
       "</div>"
      ],
      "text/plain": [
       "       0      1      2      3      4      5\n",
       "0 -0.000  0.001 -0.001 -0.004  0.000  0.000\n",
       "1  0.001  0.000 -0.001 -0.004  0.003  0.013\n",
       "2 -0.000 -0.016  0.001  0.009  0.014  0.024\n",
       "3  0.001  0.011 -0.001  0.018  0.018  0.008\n",
       "4  0.005  0.021  0.013  0.009  0.016 -0.002\n",
       "5  0.002  0.000 -0.011 -0.001  0.002  0.001"
      ]
     },
     "execution_count": 32,
     "metadata": {},
     "output_type": "execute_result"
    }
   ],
   "source": [
    "round(-pd.read_csv(\"model_files/depth_info.csv\", header=None)-depth_init, 3)"
   ]
  },
  {
   "cell_type": "code",
   "execution_count": 35,
   "id": "019eeb13",
   "metadata": {},
   "outputs": [],
   "source": [
    "ser.close()"
   ]
  }
 ],
 "metadata": {
  "kernelspec": {
   "display_name": "Python 3 (ipykernel)",
   "language": "python",
   "name": "python3"
  },
  "language_info": {
   "codemirror_mode": {
    "name": "ipython",
    "version": 3
   },
   "file_extension": ".py",
   "mimetype": "text/x-python",
   "name": "python",
   "nbconvert_exporter": "python",
   "pygments_lexer": "ipython3",
   "version": "3.9.12"
  },
  "toc": {
   "base_numbering": 1,
   "nav_menu": {},
   "number_sections": true,
   "sideBar": true,
   "skip_h1_title": false,
   "title_cell": "Table of Contents",
   "title_sidebar": "Contents",
   "toc_cell": false,
   "toc_position": {
    "height": "calc(100% - 180px)",
    "left": "10px",
    "top": "150px",
    "width": "307.188px"
   },
   "toc_section_display": true,
   "toc_window_display": false
  }
 },
 "nbformat": 4,
 "nbformat_minor": 5
}
